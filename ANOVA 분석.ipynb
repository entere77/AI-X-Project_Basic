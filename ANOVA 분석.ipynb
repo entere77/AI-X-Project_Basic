{
 "cells": [
  {
   "cell_type": "code",
   "execution_count": 8,
   "id": "29079e07",
   "metadata": {},
   "outputs": [],
   "source": [
    "import pandas as pd\n",
    "import seaborn as sns\n",
    "import matplotlib.pyplot as plt\n",
    "import numpy as np"
   ]
  },
  {
   "cell_type": "code",
   "execution_count": 9,
   "id": "4a84e427",
   "metadata": {},
   "outputs": [],
   "source": [
    "# 이번에 여러 파일을 불러오겠습니다.\n",
    "\n",
    "raw = pd.DataFrame()\n",
    "raw.head()\n",
    "\n",
    "file1 = r'.\\rawfiles\\CARD_SUBWAY_MONTH_201901.csv'\n",
    "file2 = r'.\\rawfiles\\CARD_SUBWAY_MONTH_201902.csv'\n",
    "file3 = r'.\\rawfiles\\CARD_SUBWAY_MONTH_201903.csv'\n",
    "file4 = r'.\\rawfiles\\CARD_SUBWAY_MONTH_201904.csv'\n",
    "file5 = r'.\\rawfiles\\CARD_SUBWAY_MONTH_201905.csv'\n",
    "file6 = r'.\\rawfiles\\CARD_SUBWAY_MONTH_201906.csv'\n",
    "\n",
    "temp1 = pd.read_csv(file1)\n",
    "temp2 = pd.read_csv(file2)\n",
    "temp3 = pd.read_csv(file3)\n",
    "temp4 = pd.read_csv(file4)\n",
    "temp5 = pd.read_csv(file5)\n",
    "temp6 = pd.read_csv(file6)\n",
    "\n",
    "# pandas concat 합치때, 인덱스 번호 그래로 간다. 옵션 ignore_index=True 사용하면 인덱스 새로 생성\n",
    "raw = pd.concat([temp1, temp2, temp3, temp4, temp5, temp6], axis=0)\n",
    "\n",
    "# 승하자총승객수\n",
    "raw['승하자총승객수'] = raw['승차총승객수'] + raw['하차총승객수']\n",
    "\n",
    "# 사용일자의 데이터 타입을 int에서 datetime으로 바꿔준다.\n",
    "raw['사용일자'] = pd.to_datetime(raw['사용일자'], format='%Y%m%d')\n",
    "\n",
    "# Monday=0, Sunday=6\n",
    "raw['사용일자'].dt.dayofweek\n",
    "\n",
    "# 사용일자에 대해서 요일로 변환\n",
    "raw['요일'] = raw['사용일자'].dt.dayofweek\n",
    "\n",
    "conv = {\n",
    "    0 : '일',\n",
    "    1 : '월',\n",
    "    2 : '화',\n",
    "    3 : '수',\n",
    "    4 : '목',\n",
    "    5 : '금',\n",
    "    6 : '토'\n",
    "}\n",
    "\n",
    "# 숫자 요일을 한글명 요일로 변경\n",
    "raw['요일'] = raw['요일'].map(conv)\n",
    "\n",
    "# 사용일자 컬럼에서 년월 값을 가져와 년월 컬럼 만들자\n",
    "\n",
    "raw['연월'] = raw['사용일자'].dt.strftime('%Y%m')\n",
    "\n",
    "# 사용일자 컬럼에서 년월 값을 가져와 년월 컬럼 만들자\n",
    "\n",
    "raw['월일'] = raw['사용일자'].dt.strftime('%m%d')"
   ]
  },
  {
   "cell_type": "code",
   "execution_count": 10,
   "id": "779305e6",
   "metadata": {},
   "outputs": [
    {
     "data": {
      "text/html": [
       "<div>\n",
       "<style scoped>\n",
       "    .dataframe tbody tr th:only-of-type {\n",
       "        vertical-align: middle;\n",
       "    }\n",
       "\n",
       "    .dataframe tbody tr th {\n",
       "        vertical-align: top;\n",
       "    }\n",
       "\n",
       "    .dataframe thead th {\n",
       "        text-align: right;\n",
       "    }\n",
       "</style>\n",
       "<table border=\"1\" class=\"dataframe\">\n",
       "  <thead>\n",
       "    <tr style=\"text-align: right;\">\n",
       "      <th></th>\n",
       "      <th>노선명</th>\n",
       "      <th>역명</th>\n",
       "      <th>승하자총승객수</th>\n",
       "      <th>연월</th>\n",
       "    </tr>\n",
       "  </thead>\n",
       "  <tbody>\n",
       "    <tr>\n",
       "      <th>0</th>\n",
       "      <td>2호선</td>\n",
       "      <td>을지로4가</td>\n",
       "      <td>7590.0</td>\n",
       "      <td>201901</td>\n",
       "    </tr>\n",
       "    <tr>\n",
       "      <th>1</th>\n",
       "      <td>3호선</td>\n",
       "      <td>을지로3가</td>\n",
       "      <td>15658.0</td>\n",
       "      <td>201901</td>\n",
       "    </tr>\n",
       "    <tr>\n",
       "      <th>2</th>\n",
       "      <td>2호선</td>\n",
       "      <td>을지로입구</td>\n",
       "      <td>43808.0</td>\n",
       "      <td>201901</td>\n",
       "    </tr>\n",
       "    <tr>\n",
       "      <th>3</th>\n",
       "      <td>2호선</td>\n",
       "      <td>시청</td>\n",
       "      <td>14430.0</td>\n",
       "      <td>201901</td>\n",
       "    </tr>\n",
       "    <tr>\n",
       "      <th>4</th>\n",
       "      <td>6호선</td>\n",
       "      <td>동묘앞</td>\n",
       "      <td>16549.0</td>\n",
       "      <td>201901</td>\n",
       "    </tr>\n",
       "  </tbody>\n",
       "</table>\n",
       "</div>"
      ],
      "text/plain": [
       "   노선명     역명  승하자총승객수      연월\n",
       "0  2호선  을지로4가   7590.0  201901\n",
       "1  3호선  을지로3가  15658.0  201901\n",
       "2  2호선  을지로입구  43808.0  201901\n",
       "3  2호선     시청  14430.0  201901\n",
       "4  6호선    동묘앞  16549.0  201901"
      ]
     },
     "execution_count": 10,
     "metadata": {},
     "output_type": "execute_result"
    }
   ],
   "source": [
    "rawmonth=raw[['노선명','역명','승하자총승객수','연월']]\n",
    "rawmonth.head()"
   ]
  },
  {
   "cell_type": "code",
   "execution_count": 11,
   "id": "c7291387",
   "metadata": {},
   "outputs": [],
   "source": [
    "x1=rawmonth[rawmonth['연월']=='201901']['승하자총승객수']\n",
    "x2=rawmonth[rawmonth['연월']=='201902']['승하자총승객수']\n",
    "x3=rawmonth[rawmonth['연월']=='201903']['승하자총승객수']\n",
    "x4=rawmonth[rawmonth['연월']=='201904']['승하자총승객수']\n",
    "x5=rawmonth[rawmonth['연월']=='201905']['승하자총승객수']\n",
    "x6=rawmonth[rawmonth['연월']=='201906']['승하자총승객수']"
   ]
  },
  {
   "cell_type": "code",
   "execution_count": 12,
   "id": "9e0fc4e9",
   "metadata": {},
   "outputs": [
    {
     "name": "stdout",
     "output_type": "stream",
     "text": [
      "(18334,) (16543,) (18342,) (17749,) (18336,) (17724,)\n"
     ]
    }
   ],
   "source": [
    "print(x1.shape,x2.shape,x3.shape,x4.shape,x5.shape,x6.shape)\n",
    "# 각 그룹의 표본수 N > 30 이므로 정규성을 만족한다고 가정"
   ]
  },
  {
   "cell_type": "code",
   "execution_count": 13,
   "id": "cb47d8d0",
   "metadata": {},
   "outputs": [
    {
     "name": "stdout",
     "output_type": "stream",
     "text": [
      "데이터의 일원분산분석 결과 : F=48.3, p=0.00000\n",
      "P-value 값이 충분히 작음으로 인해 그룹의 평균값이 통계적으로 유의미하게 차이납니다.\n"
     ]
    }
   ],
   "source": [
    "# Scipy.stats를 사용한 일원분산분석\n",
    "import scipy.stats as stats\n",
    "F_statistic, pVal = stats.f_oneway(x1,x2,x3,x4,x5,x6)\n",
    "print('데이터의 일원분산분석 결과 : F={0:.1f}, p={1:.5f}'.format(F_statistic, pVal))\n",
    "if pVal < 0.05:\n",
    "    print('P-value 값이 충분히 작음으로 인해 그룹의 평균값이 통계적으로 유의미하게 차이납니다.')"
   ]
  },
  {
   "cell_type": "code",
   "execution_count": 49,
   "id": "2b639ec6",
   "metadata": {},
   "outputs": [
    {
     "data": {
      "text/html": [
       "<div>\n",
       "<style scoped>\n",
       "    .dataframe tbody tr th:only-of-type {\n",
       "        vertical-align: middle;\n",
       "    }\n",
       "\n",
       "    .dataframe tbody tr th {\n",
       "        vertical-align: top;\n",
       "    }\n",
       "\n",
       "    .dataframe thead th {\n",
       "        text-align: right;\n",
       "    }\n",
       "</style>\n",
       "<table border=\"1\" class=\"dataframe\">\n",
       "  <thead>\n",
       "    <tr style=\"text-align: right;\">\n",
       "      <th></th>\n",
       "      <th>df</th>\n",
       "      <th>sum_sq</th>\n",
       "      <th>mean_sq</th>\n",
       "      <th>F</th>\n",
       "      <th>PR(&gt;F)</th>\n",
       "    </tr>\n",
       "  </thead>\n",
       "  <tbody>\n",
       "    <tr>\n",
       "      <th>C(연월)</th>\n",
       "      <td>5.0</td>\n",
       "      <td>1.667172e+11</td>\n",
       "      <td>3.334344e+10</td>\n",
       "      <td>48.273302</td>\n",
       "      <td>4.463863e-50</td>\n",
       "    </tr>\n",
       "    <tr>\n",
       "      <th>Residual</th>\n",
       "      <td>107022.0</td>\n",
       "      <td>7.392248e+13</td>\n",
       "      <td>6.907222e+08</td>\n",
       "      <td>NaN</td>\n",
       "      <td>NaN</td>\n",
       "    </tr>\n",
       "  </tbody>\n",
       "</table>\n",
       "</div>"
      ],
      "text/plain": [
       "                df        sum_sq       mean_sq          F        PR(>F)\n",
       "C(연월)          5.0  1.667172e+11  3.334344e+10  48.273302  4.463863e-50\n",
       "Residual  107022.0  7.392248e+13  6.907222e+08        NaN           NaN"
      ]
     },
     "execution_count": 49,
     "metadata": {},
     "output_type": "execute_result"
    }
   ],
   "source": [
    "# Statsmodel을 사용한 일원분산분석\n",
    "from statsmodels.formula.api import ols\n",
    "from statsmodels.stats.anova import anova_lm\n",
    "model = ols('승하자총승객수 ~ C(연월)', rawmonth).fit()\n",
    "anova_lm(model)\n",
    "# P < 0.05 이므로 귀무가설 기각, 5월은 다른 월과 승차총승객수의 유의미한 차이가 있다."
   ]
  },
  {
   "cell_type": "code",
   "execution_count": 53,
   "id": "299997f6",
   "metadata": {},
   "outputs": [],
   "source": [
    "# 사후분석\n",
    "\n",
    "# 본페로니 교정\n",
    "    # 특징 : 응용 범위가 넓음(모수,비모수 적용 가능)\n",
    "    # 장점 : ANOVA, 다중 t-test, 비모수 검정 등에 적용 가능\n",
    "    # 단점 : 비교대상이 많아질수록 검정력이 약해짐\n",
    "from statsmodels.sandbox.stats.multicomp import MultiComparison\n",
    "import scipy.stats\n",
    "\n",
    "comp = MultiComparison(rawmonth.승하자총승객수,rawmonth.연월)"
   ]
  },
  {
   "cell_type": "code",
   "execution_count": 51,
   "id": "a2f3e19a",
   "metadata": {},
   "outputs": [
    {
     "name": "stdout",
     "output_type": "stream",
     "text": [
      "Test Multiple Comparison ttest_ind \n",
      "FWER=0.05 method=bonf\n",
      "alphacSidak=0.00, alphacBonf=0.003\n",
      "================================================\n",
      " group1  group2   stat    pval  pval_corr reject\n",
      "------------------------------------------------\n",
      "2019-01 2019-02   4.2759    0.0    0.0003   True\n",
      "2019-01 2019-03  -4.7257    0.0       0.0   True\n",
      "2019-01 2019-04  -8.5561    0.0       0.0   True\n",
      "2019-01 2019-05  -8.4655    0.0       0.0   True\n",
      "2019-01 2019-06  -2.9358 0.0033    0.0499   True\n",
      "2019-02 2019-03  -8.8812    0.0       0.0   True\n",
      "2019-02 2019-04 -12.5644    0.0       0.0   True\n",
      "2019-02 2019-05 -12.5007    0.0       0.0   True\n",
      "2019-02 2019-06  -7.1563    0.0       0.0   True\n",
      "2019-03 2019-04  -3.8865 0.0001    0.0015   True\n",
      "2019-03 2019-05  -3.7615 0.0002    0.0025   True\n",
      "2019-03 2019-06   1.8006 0.0718       1.0  False\n",
      "2019-04 2019-05   0.1525 0.8788       1.0  False\n",
      "2019-04 2019-06   5.6737    0.0       0.0   True\n",
      "2019-05 2019-06   5.5598    0.0       0.0   True\n",
      "------------------------------------------------\n"
     ]
    }
   ],
   "source": [
    "result = comp.allpairtest(scipy.stats.ttest_ind, method='bonf')\n",
    "print(result[0])\n",
    "# 3월과 6월, 4월과 5월을 제외하면 모든 월의 승차총승객수의 유의미한 차이가 있다.\n",
    "# 왜?"
   ]
  },
  {
   "cell_type": "code",
   "execution_count": 52,
   "id": "156e0320",
   "metadata": {},
   "outputs": [
    {
     "data": {
      "text/html": [
       "<table class=\"simpletable\">\n",
       "<caption>Multiple Comparison of Means - Tukey HSD, FWER=0.05</caption>\n",
       "<tr>\n",
       "  <th>group1</th>  <th>group2</th>   <th>meandiff</th>   <th>p-adj</th>    <th>lower</th>     <th>upper</th>   <th>reject</th>\n",
       "</tr>\n",
       "<tr>\n",
       "  <td>2019-01</td> <td>2019-02</td> <td>-1188.3972</td> <td>0.0004</td> <td>-1991.5265</td> <td>-385.2678</td>  <td>True</td> \n",
       "</tr>\n",
       "<tr>\n",
       "  <td>2019-01</td> <td>2019-03</td>  <td>1295.0194</td>   <td>0.0</td>   <td>512.8682</td>  <td>2077.1706</td>  <td>True</td> \n",
       "</tr>\n",
       "<tr>\n",
       "  <td>2019-01</td> <td>2019-04</td>  <td>2384.0825</td>   <td>0.0</td>   <td>1595.4268</td> <td>3172.7382</td>  <td>True</td> \n",
       "</tr>\n",
       "<tr>\n",
       "  <td>2019-01</td> <td>2019-05</td>  <td>2340.9615</td>   <td>0.0</td>   <td>1558.7463</td> <td>3123.1767</td>  <td>True</td> \n",
       "</tr>\n",
       "<tr>\n",
       "  <td>2019-01</td> <td>2019-06</td>  <td>800.8965</td>  <td>0.0442</td>   <td>11.9583</td>  <td>1589.8348</td>  <td>True</td> \n",
       "</tr>\n",
       "<tr>\n",
       "  <td>2019-02</td> <td>2019-03</td>  <td>2483.4166</td>   <td>0.0</td>   <td>1680.3703</td> <td>3286.4628</td>  <td>True</td> \n",
       "</tr>\n",
       "<tr>\n",
       "  <td>2019-02</td> <td>2019-04</td>  <td>3572.4797</td>   <td>0.0</td>   <td>2763.0968</td> <td>4381.8626</td>  <td>True</td> \n",
       "</tr>\n",
       "<tr>\n",
       "  <td>2019-02</td> <td>2019-05</td>  <td>3529.3587</td>   <td>0.0</td>   <td>2726.2501</td> <td>4332.4673</td>  <td>True</td> \n",
       "</tr>\n",
       "<tr>\n",
       "  <td>2019-02</td> <td>2019-06</td>  <td>1989.2937</td>   <td>0.0</td>   <td>1179.6355</td> <td>2798.9519</td>  <td>True</td> \n",
       "</tr>\n",
       "<tr>\n",
       "  <td>2019-03</td> <td>2019-04</td>  <td>1089.0631</td> <td>0.0012</td>   <td>300.492</td>  <td>1877.6342</td>  <td>True</td> \n",
       "</tr>\n",
       "<tr>\n",
       "  <td>2019-03</td> <td>2019-05</td>  <td>1045.9421</td> <td>0.0019</td>  <td>263.8123</td>  <td>1828.072</td>   <td>True</td> \n",
       "</tr>\n",
       "<tr>\n",
       "  <td>2019-03</td> <td>2019-06</td>  <td>-494.1229</td> <td>0.4755</td> <td>-1282.9765</td> <td>294.7308</td>   <td>False</td>\n",
       "</tr>\n",
       "<tr>\n",
       "  <td>2019-04</td> <td>2019-05</td>   <td>-43.121</td>    <td>1.0</td>   <td>-831.7555</td> <td>745.5136</td>   <td>False</td>\n",
       "</tr>\n",
       "<tr>\n",
       "  <td>2019-04</td> <td>2019-06</td>  <td>-1583.186</td>   <td>0.0</td>  <td>-2378.4893</td> <td>-787.8826</td>  <td>True</td> \n",
       "</tr>\n",
       "<tr>\n",
       "  <td>2019-05</td> <td>2019-06</td>  <td>-1540.065</td>   <td>0.0</td>  <td>-2328.9821</td> <td>-751.1479</td>  <td>True</td> \n",
       "</tr>\n",
       "</table>"
      ],
      "text/plain": [
       "<class 'statsmodels.iolib.table.SimpleTable'>"
      ]
     },
     "execution_count": 52,
     "metadata": {},
     "output_type": "execute_result"
    }
   ],
   "source": [
    "#투키의 HSD - Tuckey's Honestly Significant Difference = \"진정으로 유의미한 차이\"\n",
    "    # 초기 투키 테스트(Tukey's test)가 동일한 샘플수에서의 비교를 전제한데에 \n",
    "    # 대하여 나중에 투키-크레이머 방법(Tukey-Kramer method)으로 서로 다른 샘플수에서도 비교 가능하도록 보완되었다\n",
    "from statsmodels.stats.multicomp import pairwise_tukeyhsd\n",
    "hsd = pairwise_tukeyhsd(rawmonth['승하자총승객수'], rawmonth['연월'], alpha=0.05)\n",
    "hsd.summary()\n",
    "# 동일 결과 확인"
   ]
  },
  {
   "cell_type": "code",
   "execution_count": null,
   "id": "66a0b1da",
   "metadata": {},
   "outputs": [],
   "source": []
  },
  {
   "cell_type": "code",
   "execution_count": null,
   "id": "6faf182e",
   "metadata": {},
   "outputs": [],
   "source": []
  }
 ],
 "metadata": {
  "kernelspec": {
   "display_name": "Python 3 (ipykernel)",
   "language": "python",
   "name": "python3"
  },
  "language_info": {
   "codemirror_mode": {
    "name": "ipython",
    "version": 3
   },
   "file_extension": ".py",
   "mimetype": "text/x-python",
   "name": "python",
   "nbconvert_exporter": "python",
   "pygments_lexer": "ipython3",
   "version": "3.8.6"
  }
 },
 "nbformat": 4,
 "nbformat_minor": 5
}
