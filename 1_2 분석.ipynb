{
 "cells": [
  {
   "cell_type": "markdown",
   "id": "boxed-jamaica",
   "metadata": {
    "id": "boxed-jamaica"
   },
   "source": [
    "# 안녕하세요^^ \n",
    "## '서울시 생활정보 기반 대중교통 수요 분석 ' 과정에 오신 여러분을 환영합니다.\n",
    "* 본 과정에서는 실제 사례와 데이터를 기반으로 문제를 해결하는 전체 과정을 자기 주도형 실습으로 진행해볼 예정입니다.\n",
    "* 앞선 교육과정을 정리하는 마음과 지금까지 배운 내용을 바탕으로 문제 해결을 해볼게요!\n",
    "* 미니 프로젝트를 통한 문제 해결 과정 'A에서 Z까지', 지금부터 시작합니다!"
   ]
  },
  {
   "cell_type": "markdown",
   "id": "ef575059",
   "metadata": {
    "id": "ef575059"
   },
   "source": [
    "---"
   ]
  },
  {
   "cell_type": "markdown",
   "id": "f2bc4fa5",
   "metadata": {
    "id": "f2bc4fa5"
   },
   "source": [
    "# 데이터 분석부터 먼저 시작해보겠습니다.\n",
    "## \"구 별 유동인구 데이터\" 를 확인해 보도록 하겠습니다"
   ]
  },
  {
   "cell_type": "markdown",
   "id": "revolutionary-farmer",
   "metadata": {
    "id": "revolutionary-farmer"
   },
   "source": [
    "## 기본전제\n",
    "* 처음에 제공되는 기본/추가 데이터는 'raw_data' 폴더에 있습니다.\n",
    "\n",
    "[기본 데이터]\n",
    "* 1.2 seoul_moving_month_4.csv\n",
    "\n",
    "[데이터 소개]\n",
    "* 서울 시 구별 이동 2022년 4월 데이터\n",
    "\n",
    "[변수 소개]\n",
    "* 도착시간 : 0 -> \"0:00~0:59\"를 의미 \n",
    "* 출발 자치구 : 자치구 코드\n",
    "* 성별 : F(여성), M(남성)\n",
    "* 나이 : 10 ~ 79세 (5세 단위), 0 ~ 10세, 80세 이상으로 구분\n",
    "* 유형 : H(야간상주지), W(주간상주지), E(기타)\n",
    "* 평균 이동 시간 : 동일 열 내 이동인구의 월 단위 평균 이동 시간 (10분단위)\n",
    "* 이동인구 : 추정 합산값으로 소수점 표출, 개인정보 비식별화를 위해 3명 미만의 경우 * 처리"
   ]
  },
  {
   "cell_type": "markdown",
   "id": "matched-broad",
   "metadata": {
    "id": "matched-broad"
   },
   "source": [
    "---"
   ]
  },
  {
   "cell_type": "markdown",
   "id": "warming-gentleman",
   "metadata": {
    "id": "warming-gentleman"
   },
   "source": [
    "# 1.데이터 불러오기\n",
    "## 모든 미니 프로젝트의 시작은 '데이터 불러오기' 부터라고 할 수 있습니다.\n",
    "+ KeyPoint : 불러오고자 하는 데이터에 따라 자유롭게 변수로 지정할 수 있다."
   ]
  },
  {
   "cell_type": "markdown",
   "id": "measured-administration",
   "metadata": {
    "id": "measured-administration"
   },
   "source": [
    "###  데이터 프레임을 불러오고 변수로 저장(여기서는 CSV 기준으로 진행)\n",
    "* csv : pd.read_csv(\"파일이름. csv\")\n",
    "* txt : pd.read_csv(\"파일이름. csv\", sep=\"구분자\")\n",
    "* xlsx : pd.read_excel('파일이름.xlsx')\n",
    "* pickle : pd.read_pickle(\"파일이름.pkl\") <br>\n",
    " [참고] pickle은 파이썬의 모든 객체를 파일로 저장할 수 있는 방법으로 DataFrame,List,Dict 등 모든 객체 저장 가능(특히 sklearn라이브러리를 통해 모델을 학습시키고, 저장할 때 많이 사용)"
   ]
  },
  {
   "cell_type": "markdown",
   "id": "vocational-animal",
   "metadata": {
    "id": "vocational-animal"
   },
   "source": [
    "#### [실습문제1] 데이터 로딩\n",
    "* Pandas 라이브러리를 활용해서 'seoul_moving_month_4_step1.csv' 데이터를 확인하세요.\n",
    "    * 아래에 'Pandas'를 Import하고 'seoul_moving_month_4_step1.csv'파일을 'seoul_moving'에 불러오고,  Shape을 확인하는 소스코드를 작성하고 실행해보세요.\n",
    "    * 데이터 파일 로딩시 참고 사항 \n",
    "        * 구분자(sep)는 ',' 입니다\n",
    "        * UTF-8 인코더를 사용해 주세요\n",
    "        * index column은 0번 열 입니다"
   ]
  },
  {
   "cell_type": "code",
   "execution_count": 26,
   "id": "7fe2618e",
   "metadata": {},
   "outputs": [],
   "source": [
    "import pandas as pd\n",
    "import numpy as np\n",
    "import matplotlib.pyplot as plt\n",
    "import seaborn as sns\n",
    "\n",
    "# 그래프에 한글 폰트 적용\n",
    "\n",
    "from matplotlib import font_manager, rc\n",
    "\n",
    "font_path = \"C:/Windows/Fonts/gulim.ttc\"\n",
    "font = font_manager.FontProperties(fname=font_path).get_name()\n",
    "rc('font', family=font)"
   ]
  },
  {
   "cell_type": "code",
   "execution_count": 1,
   "id": "saving-slope",
   "metadata": {
    "id": "saving-slope"
   },
   "outputs": [],
   "source": [
    "# 아래에 실습코드를 작성하고 결과를 확인합니다.\n",
    "\n",
    "seoul_moving = pd.read_csv('1.2 seoul_moving_month_4.csv',sep=\",\", index_col = 0, encoding = 'UTF-8')"
   ]
  },
  {
   "cell_type": "code",
   "execution_count": 2,
   "id": "funny-subcommittee",
   "metadata": {
    "id": "funny-subcommittee"
   },
   "outputs": [
    {
     "data": {
      "text/plain": [
       "(28923054, 10)"
      ]
     },
     "execution_count": 2,
     "metadata": {},
     "output_type": "execute_result"
    }
   ],
   "source": [
    "# 데이터 프레임의 Shape을 확인합니다.\n",
    "seoul_moving.shape"
   ]
  },
  {
   "cell_type": "markdown",
   "id": "73396b42",
   "metadata": {
    "id": "73396b42"
   },
   "source": [
    "---"
   ]
  },
  {
   "cell_type": "markdown",
   "id": "annoying-trout",
   "metadata": {
    "id": "annoying-trout"
   },
   "source": [
    "# 2.기본 정보 확인 및 클렌징\n",
    "\n",
    "+ 데이터 클렌징 : 결측치, 이상치 등을 제거하여 데이터 분석 결과가 왜곡 되는 문제를 방지하기 위한 정제 과정"
   ]
  },
  {
   "cell_type": "markdown",
   "id": "romantic-johnson",
   "metadata": {
    "id": "romantic-johnson"
   },
   "source": [
    "#### [실습문제2] 기본 정보 확인하기\n",
    "* 'seoul_moving' 데이터의 정보를 확인해보세요.\n",
    "* 'describe', 'info', 'head' 등 전부 활용해 보겠습니다."
   ]
  },
  {
   "cell_type": "code",
   "execution_count": 3,
   "id": "demographic-battery",
   "metadata": {
    "id": "demographic-battery"
   },
   "outputs": [
    {
     "data": {
      "text/html": [
       "<div>\n",
       "<style scoped>\n",
       "    .dataframe tbody tr th:only-of-type {\n",
       "        vertical-align: middle;\n",
       "    }\n",
       "\n",
       "    .dataframe tbody tr th {\n",
       "        vertical-align: top;\n",
       "    }\n",
       "\n",
       "    .dataframe thead th {\n",
       "        text-align: right;\n",
       "    }\n",
       "</style>\n",
       "<table border=\"1\" class=\"dataframe\">\n",
       "  <thead>\n",
       "    <tr style=\"text-align: right;\">\n",
       "      <th></th>\n",
       "      <th>대상연월</th>\n",
       "      <th>요일</th>\n",
       "      <th>도착시간</th>\n",
       "      <th>출발 시군구 코드</th>\n",
       "      <th>도착 시군구 코드</th>\n",
       "      <th>성별</th>\n",
       "      <th>나이</th>\n",
       "      <th>이동유형</th>\n",
       "      <th>평균 이동 시간(분)</th>\n",
       "      <th>이동인구(합)</th>\n",
       "    </tr>\n",
       "  </thead>\n",
       "  <tbody>\n",
       "    <tr>\n",
       "      <th>0</th>\n",
       "      <td>202204</td>\n",
       "      <td>일</td>\n",
       "      <td>0</td>\n",
       "      <td>11010</td>\n",
       "      <td>11010</td>\n",
       "      <td>F</td>\n",
       "      <td>0</td>\n",
       "      <td>EE</td>\n",
       "      <td>10</td>\n",
       "      <td>28.02</td>\n",
       "    </tr>\n",
       "    <tr>\n",
       "      <th>1</th>\n",
       "      <td>202204</td>\n",
       "      <td>일</td>\n",
       "      <td>0</td>\n",
       "      <td>11010</td>\n",
       "      <td>11010</td>\n",
       "      <td>F</td>\n",
       "      <td>0</td>\n",
       "      <td>EH</td>\n",
       "      <td>10</td>\n",
       "      <td>27.52</td>\n",
       "    </tr>\n",
       "    <tr>\n",
       "      <th>2</th>\n",
       "      <td>202204</td>\n",
       "      <td>일</td>\n",
       "      <td>0</td>\n",
       "      <td>11010</td>\n",
       "      <td>11010</td>\n",
       "      <td>F</td>\n",
       "      <td>0</td>\n",
       "      <td>HE</td>\n",
       "      <td>10</td>\n",
       "      <td>27.83</td>\n",
       "    </tr>\n",
       "    <tr>\n",
       "      <th>3</th>\n",
       "      <td>202204</td>\n",
       "      <td>일</td>\n",
       "      <td>0</td>\n",
       "      <td>11010</td>\n",
       "      <td>11010</td>\n",
       "      <td>F</td>\n",
       "      <td>10</td>\n",
       "      <td>HW</td>\n",
       "      <td>10</td>\n",
       "      <td>6.05</td>\n",
       "    </tr>\n",
       "    <tr>\n",
       "      <th>4</th>\n",
       "      <td>202204</td>\n",
       "      <td>일</td>\n",
       "      <td>0</td>\n",
       "      <td>11010</td>\n",
       "      <td>11010</td>\n",
       "      <td>F</td>\n",
       "      <td>10</td>\n",
       "      <td>EH</td>\n",
       "      <td>90</td>\n",
       "      <td>5.95</td>\n",
       "    </tr>\n",
       "    <tr>\n",
       "      <th>5</th>\n",
       "      <td>202204</td>\n",
       "      <td>일</td>\n",
       "      <td>0</td>\n",
       "      <td>11010</td>\n",
       "      <td>11010</td>\n",
       "      <td>F</td>\n",
       "      <td>10</td>\n",
       "      <td>WH</td>\n",
       "      <td>10</td>\n",
       "      <td>17.89</td>\n",
       "    </tr>\n",
       "    <tr>\n",
       "      <th>6</th>\n",
       "      <td>202204</td>\n",
       "      <td>일</td>\n",
       "      <td>0</td>\n",
       "      <td>11010</td>\n",
       "      <td>11010</td>\n",
       "      <td>F</td>\n",
       "      <td>15</td>\n",
       "      <td>EH</td>\n",
       "      <td>10</td>\n",
       "      <td>114.23</td>\n",
       "    </tr>\n",
       "    <tr>\n",
       "      <th>7</th>\n",
       "      <td>202204</td>\n",
       "      <td>일</td>\n",
       "      <td>0</td>\n",
       "      <td>11010</td>\n",
       "      <td>11010</td>\n",
       "      <td>F</td>\n",
       "      <td>15</td>\n",
       "      <td>HH</td>\n",
       "      <td>20</td>\n",
       "      <td>20.07</td>\n",
       "    </tr>\n",
       "    <tr>\n",
       "      <th>8</th>\n",
       "      <td>202204</td>\n",
       "      <td>일</td>\n",
       "      <td>0</td>\n",
       "      <td>11010</td>\n",
       "      <td>11010</td>\n",
       "      <td>F</td>\n",
       "      <td>15</td>\n",
       "      <td>HE</td>\n",
       "      <td>10</td>\n",
       "      <td>8.03</td>\n",
       "    </tr>\n",
       "    <tr>\n",
       "      <th>9</th>\n",
       "      <td>202204</td>\n",
       "      <td>일</td>\n",
       "      <td>0</td>\n",
       "      <td>11010</td>\n",
       "      <td>11010</td>\n",
       "      <td>F</td>\n",
       "      <td>15</td>\n",
       "      <td>HW</td>\n",
       "      <td>10</td>\n",
       "      <td>8.04</td>\n",
       "    </tr>\n",
       "  </tbody>\n",
       "</table>\n",
       "</div>"
      ],
      "text/plain": [
       "     대상연월 요일  도착시간  출발 시군구 코드  도착 시군구 코드 성별  나이 이동유형  평균 이동 시간(분) 이동인구(합)\n",
       "0  202204  일     0      11010      11010  F   0   EE           10   28.02\n",
       "1  202204  일     0      11010      11010  F   0   EH           10   27.52\n",
       "2  202204  일     0      11010      11010  F   0   HE           10   27.83\n",
       "3  202204  일     0      11010      11010  F  10   HW           10    6.05\n",
       "4  202204  일     0      11010      11010  F  10   EH           90    5.95\n",
       "5  202204  일     0      11010      11010  F  10   WH           10   17.89\n",
       "6  202204  일     0      11010      11010  F  15   EH           10  114.23\n",
       "7  202204  일     0      11010      11010  F  15   HH           20   20.07\n",
       "8  202204  일     0      11010      11010  F  15   HE           10    8.03\n",
       "9  202204  일     0      11010      11010  F  15   HW           10    8.04"
      ]
     },
     "execution_count": 3,
     "metadata": {},
     "output_type": "execute_result"
    }
   ],
   "source": [
    "# 아래에 실습코드를 작성하고 결과를 확인합니다.\n",
    "seoul_moving.head(10)"
   ]
  },
  {
   "cell_type": "code",
   "execution_count": 4,
   "id": "940a114a",
   "metadata": {
    "id": "940a114a"
   },
   "outputs": [
    {
     "name": "stdout",
     "output_type": "stream",
     "text": [
      "<class 'pandas.core.frame.DataFrame'>\n",
      "Int64Index: 28923054 entries, 0 to 968462\n",
      "Data columns (total 10 columns):\n",
      " #   Column       Dtype \n",
      "---  ------       ----- \n",
      " 0   대상연월         int64 \n",
      " 1   요일           object\n",
      " 2   도착시간         int64 \n",
      " 3   출발 시군구 코드    int64 \n",
      " 4   도착 시군구 코드    int64 \n",
      " 5   성별           object\n",
      " 6   나이           int64 \n",
      " 7   이동유형         object\n",
      " 8   평균 이동 시간(분)  int64 \n",
      " 9   이동인구(합)      object\n",
      "dtypes: int64(6), object(4)\n",
      "memory usage: 2.4+ GB\n"
     ]
    }
   ],
   "source": [
    "# 아래에 실습코드를 작성하고 결과를 확인합니다.\n",
    "seoul_moving.info()"
   ]
  },
  {
   "cell_type": "code",
   "execution_count": 5,
   "id": "7343fadf",
   "metadata": {
    "id": "7343fadf"
   },
   "outputs": [
    {
     "data": {
      "text/html": [
       "<div>\n",
       "<style scoped>\n",
       "    .dataframe tbody tr th:only-of-type {\n",
       "        vertical-align: middle;\n",
       "    }\n",
       "\n",
       "    .dataframe tbody tr th {\n",
       "        vertical-align: top;\n",
       "    }\n",
       "\n",
       "    .dataframe thead th {\n",
       "        text-align: right;\n",
       "    }\n",
       "</style>\n",
       "<table border=\"1\" class=\"dataframe\">\n",
       "  <thead>\n",
       "    <tr style=\"text-align: right;\">\n",
       "      <th></th>\n",
       "      <th>대상연월</th>\n",
       "      <th>도착시간</th>\n",
       "      <th>출발 시군구 코드</th>\n",
       "      <th>도착 시군구 코드</th>\n",
       "      <th>나이</th>\n",
       "      <th>평균 이동 시간(분)</th>\n",
       "    </tr>\n",
       "  </thead>\n",
       "  <tbody>\n",
       "    <tr>\n",
       "      <th>count</th>\n",
       "      <td>28923054.0</td>\n",
       "      <td>2.892305e+07</td>\n",
       "      <td>2.892305e+07</td>\n",
       "      <td>2.892305e+07</td>\n",
       "      <td>2.892305e+07</td>\n",
       "      <td>2.892305e+07</td>\n",
       "    </tr>\n",
       "    <tr>\n",
       "      <th>mean</th>\n",
       "      <td>202204.0</td>\n",
       "      <td>1.365597e+01</td>\n",
       "      <td>1.712362e+04</td>\n",
       "      <td>1.719750e+04</td>\n",
       "      <td>4.279614e+01</td>\n",
       "      <td>3.279829e+01</td>\n",
       "    </tr>\n",
       "    <tr>\n",
       "      <th>std</th>\n",
       "      <td>0.0</td>\n",
       "      <td>5.849675e+00</td>\n",
       "      <td>9.046478e+03</td>\n",
       "      <td>9.063818e+03</td>\n",
       "      <td>1.777485e+01</td>\n",
       "      <td>2.584213e+01</td>\n",
       "    </tr>\n",
       "    <tr>\n",
       "      <th>min</th>\n",
       "      <td>202204.0</td>\n",
       "      <td>0.000000e+00</td>\n",
       "      <td>1.101000e+04</td>\n",
       "      <td>1.101000e+04</td>\n",
       "      <td>0.000000e+00</td>\n",
       "      <td>1.000000e+01</td>\n",
       "    </tr>\n",
       "    <tr>\n",
       "      <th>25%</th>\n",
       "      <td>202204.0</td>\n",
       "      <td>1.000000e+01</td>\n",
       "      <td>1.110000e+04</td>\n",
       "      <td>1.111000e+04</td>\n",
       "      <td>3.000000e+01</td>\n",
       "      <td>2.000000e+01</td>\n",
       "    </tr>\n",
       "    <tr>\n",
       "      <th>50%</th>\n",
       "      <td>202204.0</td>\n",
       "      <td>1.400000e+01</td>\n",
       "      <td>1.120000e+04</td>\n",
       "      <td>1.120000e+04</td>\n",
       "      <td>4.500000e+01</td>\n",
       "      <td>3.000000e+01</td>\n",
       "    </tr>\n",
       "    <tr>\n",
       "      <th>75%</th>\n",
       "      <td>202204.0</td>\n",
       "      <td>1.800000e+01</td>\n",
       "      <td>3.101400e+04</td>\n",
       "      <td>3.102100e+04</td>\n",
       "      <td>5.500000e+01</td>\n",
       "      <td>4.000000e+01</td>\n",
       "    </tr>\n",
       "    <tr>\n",
       "      <th>max</th>\n",
       "      <td>202204.0</td>\n",
       "      <td>2.300000e+01</td>\n",
       "      <td>3.900000e+04</td>\n",
       "      <td>3.900000e+04</td>\n",
       "      <td>8.000000e+01</td>\n",
       "      <td>7.700000e+02</td>\n",
       "    </tr>\n",
       "  </tbody>\n",
       "</table>\n",
       "</div>"
      ],
      "text/plain": [
       "             대상연월          도착시간     출발 시군구 코드     도착 시군구 코드            나이  \\\n",
       "count  28923054.0  2.892305e+07  2.892305e+07  2.892305e+07  2.892305e+07   \n",
       "mean     202204.0  1.365597e+01  1.712362e+04  1.719750e+04  4.279614e+01   \n",
       "std           0.0  5.849675e+00  9.046478e+03  9.063818e+03  1.777485e+01   \n",
       "min      202204.0  0.000000e+00  1.101000e+04  1.101000e+04  0.000000e+00   \n",
       "25%      202204.0  1.000000e+01  1.110000e+04  1.111000e+04  3.000000e+01   \n",
       "50%      202204.0  1.400000e+01  1.120000e+04  1.120000e+04  4.500000e+01   \n",
       "75%      202204.0  1.800000e+01  3.101400e+04  3.102100e+04  5.500000e+01   \n",
       "max      202204.0  2.300000e+01  3.900000e+04  3.900000e+04  8.000000e+01   \n",
       "\n",
       "        평균 이동 시간(분)  \n",
       "count  2.892305e+07  \n",
       "mean   3.279829e+01  \n",
       "std    2.584213e+01  \n",
       "min    1.000000e+01  \n",
       "25%    2.000000e+01  \n",
       "50%    3.000000e+01  \n",
       "75%    4.000000e+01  \n",
       "max    7.700000e+02  "
      ]
     },
     "execution_count": 5,
     "metadata": {},
     "output_type": "execute_result"
    }
   ],
   "source": [
    "# 아래에 실습코드를 작성하고 결과를 확인합니다.\n",
    "seoul_moving.describe()"
   ]
  },
  {
   "cell_type": "markdown",
   "id": "b90fd066",
   "metadata": {
    "id": "b90fd066"
   },
   "source": [
    "* 1번 열의 의미\n",
    "    * \" 2022년 1월 일요일에 11010(종로구)에서 11010(종로구)으로 이동하여 0시 ~ 0시 59분 사이에 도착했고, E(기타)에서 H(야간상주지(집))으로 이동한 0 ~ 10세 여성은 총 27.52명이며 이들의 평균 이동시간은 10분이다"
   ]
  },
  {
   "cell_type": "markdown",
   "id": "003322b3",
   "metadata": {
    "id": "003322b3"
   },
   "source": [
    "#### [실습문제3] 결측치 처리 ( NaN이 아닌 결측치를 처리 해봅시다)\n",
    "\n",
    "* '인구이동(합)' column은 이동 인구의 합산인데 object 타입입니다. \n",
    "\n",
    "    - 왜 일까요? \n",
    "\n",
    "    - Tip! (이동인구 : 추정 합산값으로 소수점 표출, 개인정보 비식별화를 위해 3명 미만의 경우 * 처리)\n",
    "\n",
    "    - 해당 값을 나름의 기준으로 변경하세요\n",
    "\n",
    "    - '인구이동(합)' 컬럼의 데이터 타입을 수치형으로 변경하세요 "
   ]
  },
  {
   "cell_type": "markdown",
   "id": "99cb0014",
   "metadata": {},
   "source": [
    "# 1. 0~3 사이의 랜덤값으로 대체"
   ]
  },
  {
   "cell_type": "code",
   "execution_count": 6,
   "id": "64977ed3",
   "metadata": {
    "id": "64977ed3"
   },
   "outputs": [],
   "source": [
    "# 아래에 실습코드를 작성하고 결과를 확인합니다.\n",
    "import numpy as np\n",
    "a=seoul_moving[seoul_moving['이동인구(합)']=='*']\n",
    "# 0~3 사이의 랜덤 값 생성\n",
    "n=np.random.uniform(0.01,3.00,len(a))\n",
    "for i in range(len(n)):\n",
    "    n[i]=round(n[i],2)"
   ]
  },
  {
   "cell_type": "code",
   "execution_count": 7,
   "id": "e31e9a26",
   "metadata": {},
   "outputs": [],
   "source": [
    "# 결측치 치환\n",
    "seoul_moving1=seoul_moving.replace({'*':n})"
   ]
  },
  {
   "cell_type": "code",
   "execution_count": 8,
   "id": "bc372d24",
   "metadata": {},
   "outputs": [
    {
     "data": {
      "text/html": [
       "<div>\n",
       "<style scoped>\n",
       "    .dataframe tbody tr th:only-of-type {\n",
       "        vertical-align: middle;\n",
       "    }\n",
       "\n",
       "    .dataframe tbody tr th {\n",
       "        vertical-align: top;\n",
       "    }\n",
       "\n",
       "    .dataframe thead th {\n",
       "        text-align: right;\n",
       "    }\n",
       "</style>\n",
       "<table border=\"1\" class=\"dataframe\">\n",
       "  <thead>\n",
       "    <tr style=\"text-align: right;\">\n",
       "      <th></th>\n",
       "      <th>대상연월</th>\n",
       "      <th>요일</th>\n",
       "      <th>도착시간</th>\n",
       "      <th>출발 시군구 코드</th>\n",
       "      <th>도착 시군구 코드</th>\n",
       "      <th>성별</th>\n",
       "      <th>나이</th>\n",
       "      <th>이동유형</th>\n",
       "      <th>평균 이동 시간(분)</th>\n",
       "      <th>이동인구(합)</th>\n",
       "    </tr>\n",
       "  </thead>\n",
       "  <tbody>\n",
       "  </tbody>\n",
       "</table>\n",
       "</div>"
      ],
      "text/plain": [
       "Empty DataFrame\n",
       "Columns: [대상연월, 요일, 도착시간, 출발 시군구 코드, 도착 시군구 코드, 성별, 나이, 이동유형, 평균 이동 시간(분), 이동인구(합)]\n",
       "Index: []"
      ]
     },
     "execution_count": 8,
     "metadata": {},
     "output_type": "execute_result"
    }
   ],
   "source": [
    "# 결측치 없음 확인\n",
    "seoul_moving1[seoul_moving1['이동인구(합)']=='*']"
   ]
  },
  {
   "cell_type": "code",
   "execution_count": 9,
   "id": "4ab85773",
   "metadata": {},
   "outputs": [
    {
     "name": "stdout",
     "output_type": "stream",
     "text": [
      "<class 'pandas.core.frame.DataFrame'>\n",
      "Int64Index: 28923054 entries, 0 to 968462\n",
      "Data columns (total 10 columns):\n",
      " #   Column       Dtype  \n",
      "---  ------       -----  \n",
      " 0   대상연월         int64  \n",
      " 1   요일           object \n",
      " 2   도착시간         int64  \n",
      " 3   출발 시군구 코드    int64  \n",
      " 4   도착 시군구 코드    int64  \n",
      " 5   성별           object \n",
      " 6   나이           int64  \n",
      " 7   이동유형         object \n",
      " 8   평균 이동 시간(분)  int64  \n",
      " 9   이동인구(합)      float64\n",
      "dtypes: float64(1), int64(6), object(3)\n",
      "memory usage: 2.4+ GB\n"
     ]
    }
   ],
   "source": [
    "# 이동인구(합) column의 데이터 타입을 바꿔주세요\n",
    "seoul_moving1['이동인구(합)']=seoul_moving1['이동인구(합)'].astype(dtype=float)\n",
    "seoul_moving1.info()"
   ]
  },
  {
   "cell_type": "code",
   "execution_count": 10,
   "id": "b2232c0f",
   "metadata": {},
   "outputs": [
    {
     "data": {
      "text/html": [
       "<div>\n",
       "<style scoped>\n",
       "    .dataframe tbody tr th:only-of-type {\n",
       "        vertical-align: middle;\n",
       "    }\n",
       "\n",
       "    .dataframe tbody tr th {\n",
       "        vertical-align: top;\n",
       "    }\n",
       "\n",
       "    .dataframe thead th {\n",
       "        text-align: right;\n",
       "    }\n",
       "</style>\n",
       "<table border=\"1\" class=\"dataframe\">\n",
       "  <thead>\n",
       "    <tr style=\"text-align: right;\">\n",
       "      <th></th>\n",
       "      <th>대상연월</th>\n",
       "      <th>도착시간</th>\n",
       "      <th>출발 시군구 코드</th>\n",
       "      <th>도착 시군구 코드</th>\n",
       "      <th>나이</th>\n",
       "      <th>평균 이동 시간(분)</th>\n",
       "      <th>이동인구(합)</th>\n",
       "    </tr>\n",
       "  </thead>\n",
       "  <tbody>\n",
       "    <tr>\n",
       "      <th>count</th>\n",
       "      <td>28923054.0</td>\n",
       "      <td>2.892305e+07</td>\n",
       "      <td>2.892305e+07</td>\n",
       "      <td>2.892305e+07</td>\n",
       "      <td>2.892305e+07</td>\n",
       "      <td>2.892305e+07</td>\n",
       "      <td>2.892305e+07</td>\n",
       "    </tr>\n",
       "    <tr>\n",
       "      <th>mean</th>\n",
       "      <td>202204.0</td>\n",
       "      <td>1.365597e+01</td>\n",
       "      <td>1.712362e+04</td>\n",
       "      <td>1.719750e+04</td>\n",
       "      <td>4.279614e+01</td>\n",
       "      <td>3.279829e+01</td>\n",
       "      <td>2.417012e+01</td>\n",
       "    </tr>\n",
       "    <tr>\n",
       "      <th>std</th>\n",
       "      <td>0.0</td>\n",
       "      <td>5.849675e+00</td>\n",
       "      <td>9.046478e+03</td>\n",
       "      <td>9.063818e+03</td>\n",
       "      <td>1.777485e+01</td>\n",
       "      <td>2.584213e+01</td>\n",
       "      <td>1.021694e+02</td>\n",
       "    </tr>\n",
       "    <tr>\n",
       "      <th>min</th>\n",
       "      <td>202204.0</td>\n",
       "      <td>0.000000e+00</td>\n",
       "      <td>1.101000e+04</td>\n",
       "      <td>1.101000e+04</td>\n",
       "      <td>0.000000e+00</td>\n",
       "      <td>1.000000e+01</td>\n",
       "      <td>1.000000e-02</td>\n",
       "    </tr>\n",
       "    <tr>\n",
       "      <th>25%</th>\n",
       "      <td>202204.0</td>\n",
       "      <td>1.000000e+01</td>\n",
       "      <td>1.110000e+04</td>\n",
       "      <td>1.111000e+04</td>\n",
       "      <td>3.000000e+01</td>\n",
       "      <td>2.000000e+01</td>\n",
       "      <td>3.310000e+00</td>\n",
       "    </tr>\n",
       "    <tr>\n",
       "      <th>50%</th>\n",
       "      <td>202204.0</td>\n",
       "      <td>1.400000e+01</td>\n",
       "      <td>1.120000e+04</td>\n",
       "      <td>1.120000e+04</td>\n",
       "      <td>4.500000e+01</td>\n",
       "      <td>3.000000e+01</td>\n",
       "      <td>6.530000e+00</td>\n",
       "    </tr>\n",
       "    <tr>\n",
       "      <th>75%</th>\n",
       "      <td>202204.0</td>\n",
       "      <td>1.800000e+01</td>\n",
       "      <td>3.101400e+04</td>\n",
       "      <td>3.102100e+04</td>\n",
       "      <td>5.500000e+01</td>\n",
       "      <td>4.000000e+01</td>\n",
       "      <td>1.579000e+01</td>\n",
       "    </tr>\n",
       "    <tr>\n",
       "      <th>max</th>\n",
       "      <td>202204.0</td>\n",
       "      <td>2.300000e+01</td>\n",
       "      <td>3.900000e+04</td>\n",
       "      <td>3.900000e+04</td>\n",
       "      <td>8.000000e+01</td>\n",
       "      <td>7.700000e+02</td>\n",
       "      <td>1.466546e+04</td>\n",
       "    </tr>\n",
       "  </tbody>\n",
       "</table>\n",
       "</div>"
      ],
      "text/plain": [
       "             대상연월          도착시간     출발 시군구 코드     도착 시군구 코드            나이  \\\n",
       "count  28923054.0  2.892305e+07  2.892305e+07  2.892305e+07  2.892305e+07   \n",
       "mean     202204.0  1.365597e+01  1.712362e+04  1.719750e+04  4.279614e+01   \n",
       "std           0.0  5.849675e+00  9.046478e+03  9.063818e+03  1.777485e+01   \n",
       "min      202204.0  0.000000e+00  1.101000e+04  1.101000e+04  0.000000e+00   \n",
       "25%      202204.0  1.000000e+01  1.110000e+04  1.111000e+04  3.000000e+01   \n",
       "50%      202204.0  1.400000e+01  1.120000e+04  1.120000e+04  4.500000e+01   \n",
       "75%      202204.0  1.800000e+01  3.101400e+04  3.102100e+04  5.500000e+01   \n",
       "max      202204.0  2.300000e+01  3.900000e+04  3.900000e+04  8.000000e+01   \n",
       "\n",
       "        평균 이동 시간(분)       이동인구(합)  \n",
       "count  2.892305e+07  2.892305e+07  \n",
       "mean   3.279829e+01  2.417012e+01  \n",
       "std    2.584213e+01  1.021694e+02  \n",
       "min    1.000000e+01  1.000000e-02  \n",
       "25%    2.000000e+01  3.310000e+00  \n",
       "50%    3.000000e+01  6.530000e+00  \n",
       "75%    4.000000e+01  1.579000e+01  \n",
       "max    7.700000e+02  1.466546e+04  "
      ]
     },
     "execution_count": 10,
     "metadata": {},
     "output_type": "execute_result"
    }
   ],
   "source": [
    "seoul_moving1.describe()"
   ]
  },
  {
   "cell_type": "markdown",
   "id": "39b37b66",
   "metadata": {},
   "source": [
    "# 2. 최빈값과 평균값을 알 수 없는 상황이라 중위값으로 대체(사용)"
   ]
  },
  {
   "cell_type": "code",
   "execution_count": 11,
   "id": "703fc8b7",
   "metadata": {
    "id": "703fc8b7"
   },
   "outputs": [
    {
     "data": {
      "text/html": [
       "<div>\n",
       "<style scoped>\n",
       "    .dataframe tbody tr th:only-of-type {\n",
       "        vertical-align: middle;\n",
       "    }\n",
       "\n",
       "    .dataframe tbody tr th {\n",
       "        vertical-align: top;\n",
       "    }\n",
       "\n",
       "    .dataframe thead th {\n",
       "        text-align: right;\n",
       "    }\n",
       "</style>\n",
       "<table border=\"1\" class=\"dataframe\">\n",
       "  <thead>\n",
       "    <tr style=\"text-align: right;\">\n",
       "      <th></th>\n",
       "      <th>대상연월</th>\n",
       "      <th>요일</th>\n",
       "      <th>도착시간</th>\n",
       "      <th>출발 시군구 코드</th>\n",
       "      <th>도착 시군구 코드</th>\n",
       "      <th>성별</th>\n",
       "      <th>나이</th>\n",
       "      <th>이동유형</th>\n",
       "      <th>평균 이동 시간(분)</th>\n",
       "      <th>이동인구(합)</th>\n",
       "    </tr>\n",
       "  </thead>\n",
       "  <tbody>\n",
       "  </tbody>\n",
       "</table>\n",
       "</div>"
      ],
      "text/plain": [
       "Empty DataFrame\n",
       "Columns: [대상연월, 요일, 도착시간, 출발 시군구 코드, 도착 시군구 코드, 성별, 나이, 이동유형, 평균 이동 시간(분), 이동인구(합)]\n",
       "Index: []"
      ]
     },
     "execution_count": 11,
     "metadata": {},
     "output_type": "execute_result"
    }
   ],
   "source": [
    "import numpy as np\n",
    "# 중위값 계산을 위해 결측치가 없는 행만 추출\n",
    "seoul_moving2=seoul_moving[seoul_moving['이동인구(합)']!='*']\n",
    "seoul_moving2[seoul_moving2['이동인구(합)']=='*']"
   ]
  },
  {
   "cell_type": "code",
   "execution_count": 12,
   "id": "b2e27c88",
   "metadata": {},
   "outputs": [
    {
     "name": "stdout",
     "output_type": "stream",
     "text": [
      "<class 'pandas.core.frame.DataFrame'>\n",
      "Int64Index: 25081013 entries, 0 to 968462\n",
      "Data columns (total 10 columns):\n",
      " #   Column       Dtype  \n",
      "---  ------       -----  \n",
      " 0   대상연월         int64  \n",
      " 1   요일           object \n",
      " 2   도착시간         int64  \n",
      " 3   출발 시군구 코드    int64  \n",
      " 4   도착 시군구 코드    int64  \n",
      " 5   성별           object \n",
      " 6   나이           int64  \n",
      " 7   이동유형         object \n",
      " 8   평균 이동 시간(분)  int64  \n",
      " 9   이동인구(합)      float64\n",
      "dtypes: float64(1), int64(6), object(3)\n",
      "memory usage: 2.1+ GB\n"
     ]
    },
    {
     "name": "stderr",
     "output_type": "stream",
     "text": [
      "C:\\Users\\김종한\\AppData\\Local\\Temp\\ipykernel_10312\\1102706856.py:2: SettingWithCopyWarning: \n",
      "A value is trying to be set on a copy of a slice from a DataFrame.\n",
      "Try using .loc[row_indexer,col_indexer] = value instead\n",
      "\n",
      "See the caveats in the documentation: https://pandas.pydata.org/pandas-docs/stable/user_guide/indexing.html#returning-a-view-versus-a-copy\n",
      "  seoul_moving2['이동인구(합)']=seoul_moving2['이동인구(합)'].astype(dtype=float)\n"
     ]
    }
   ],
   "source": [
    "# 중위값 계산을 위해 실수형으로 변경\n",
    "seoul_moving2['이동인구(합)']=seoul_moving2['이동인구(합)'].astype(dtype=float)\n",
    "seoul_moving2.info()"
   ]
  },
  {
   "cell_type": "code",
   "execution_count": 13,
   "id": "05e375e8",
   "metadata": {},
   "outputs": [
    {
     "data": {
      "text/html": [
       "<div>\n",
       "<style scoped>\n",
       "    .dataframe tbody tr th:only-of-type {\n",
       "        vertical-align: middle;\n",
       "    }\n",
       "\n",
       "    .dataframe tbody tr th {\n",
       "        vertical-align: top;\n",
       "    }\n",
       "\n",
       "    .dataframe thead th {\n",
       "        text-align: right;\n",
       "    }\n",
       "</style>\n",
       "<table border=\"1\" class=\"dataframe\">\n",
       "  <thead>\n",
       "    <tr style=\"text-align: right;\">\n",
       "      <th></th>\n",
       "      <th>대상연월</th>\n",
       "      <th>요일</th>\n",
       "      <th>도착시간</th>\n",
       "      <th>출발 시군구 코드</th>\n",
       "      <th>도착 시군구 코드</th>\n",
       "      <th>성별</th>\n",
       "      <th>나이</th>\n",
       "      <th>이동유형</th>\n",
       "      <th>평균 이동 시간(분)</th>\n",
       "      <th>이동인구(합)</th>\n",
       "    </tr>\n",
       "  </thead>\n",
       "  <tbody>\n",
       "  </tbody>\n",
       "</table>\n",
       "</div>"
      ],
      "text/plain": [
       "Empty DataFrame\n",
       "Columns: [대상연월, 요일, 도착시간, 출발 시군구 코드, 도착 시군구 코드, 성별, 나이, 이동유형, 평균 이동 시간(분), 이동인구(합)]\n",
       "Index: []"
      ]
     },
     "execution_count": 13,
     "metadata": {},
     "output_type": "execute_result"
    }
   ],
   "source": [
    "# 결측치 대체\n",
    "mid=seoul_moving2['이동인구(합)'].median()\n",
    "seoul_moving3=seoul_moving.replace({'*':mid})\n",
    "seoul_moving3[seoul_moving3['이동인구(합)']=='*']\n",
    "# 결측치 대체 확인"
   ]
  },
  {
   "cell_type": "code",
   "execution_count": 14,
   "id": "02e9e05f",
   "metadata": {},
   "outputs": [
    {
     "name": "stdout",
     "output_type": "stream",
     "text": [
      "<class 'pandas.core.frame.DataFrame'>\n",
      "Int64Index: 28923054 entries, 0 to 968462\n",
      "Data columns (total 10 columns):\n",
      " #   Column       Dtype  \n",
      "---  ------       -----  \n",
      " 0   대상연월         int64  \n",
      " 1   요일           object \n",
      " 2   도착시간         int64  \n",
      " 3   출발 시군구 코드    int64  \n",
      " 4   도착 시군구 코드    int64  \n",
      " 5   성별           object \n",
      " 6   나이           int64  \n",
      " 7   이동유형         object \n",
      " 8   평균 이동 시간(분)  int64  \n",
      " 9   이동인구(합)      float64\n",
      "dtypes: float64(1), int64(6), object(3)\n",
      "memory usage: 2.4+ GB\n"
     ]
    }
   ],
   "source": [
    "seoul_moving3['이동인구(합)']=seoul_moving3['이동인구(합)'].astype(dtype=float)\n",
    "seoul_moving3.info()"
   ]
  },
  {
   "cell_type": "code",
   "execution_count": 15,
   "id": "1f8a4aed",
   "metadata": {},
   "outputs": [
    {
     "data": {
      "text/html": [
       "<div>\n",
       "<style scoped>\n",
       "    .dataframe tbody tr th:only-of-type {\n",
       "        vertical-align: middle;\n",
       "    }\n",
       "\n",
       "    .dataframe tbody tr th {\n",
       "        vertical-align: top;\n",
       "    }\n",
       "\n",
       "    .dataframe thead th {\n",
       "        text-align: right;\n",
       "    }\n",
       "</style>\n",
       "<table border=\"1\" class=\"dataframe\">\n",
       "  <thead>\n",
       "    <tr style=\"text-align: right;\">\n",
       "      <th></th>\n",
       "      <th>대상연월</th>\n",
       "      <th>도착시간</th>\n",
       "      <th>출발 시군구 코드</th>\n",
       "      <th>도착 시군구 코드</th>\n",
       "      <th>나이</th>\n",
       "      <th>평균 이동 시간(분)</th>\n",
       "      <th>이동인구(합)</th>\n",
       "    </tr>\n",
       "  </thead>\n",
       "  <tbody>\n",
       "    <tr>\n",
       "      <th>count</th>\n",
       "      <td>28923054.0</td>\n",
       "      <td>2.892305e+07</td>\n",
       "      <td>2.892305e+07</td>\n",
       "      <td>2.892305e+07</td>\n",
       "      <td>2.892305e+07</td>\n",
       "      <td>2.892305e+07</td>\n",
       "      <td>2.892305e+07</td>\n",
       "    </tr>\n",
       "    <tr>\n",
       "      <th>mean</th>\n",
       "      <td>202204.0</td>\n",
       "      <td>1.365597e+01</td>\n",
       "      <td>1.712362e+04</td>\n",
       "      <td>1.719750e+04</td>\n",
       "      <td>4.279614e+01</td>\n",
       "      <td>3.279829e+01</td>\n",
       "      <td>2.504487e+01</td>\n",
       "    </tr>\n",
       "    <tr>\n",
       "      <th>std</th>\n",
       "      <td>0.0</td>\n",
       "      <td>5.849675e+00</td>\n",
       "      <td>9.046478e+03</td>\n",
       "      <td>9.063818e+03</td>\n",
       "      <td>1.777485e+01</td>\n",
       "      <td>2.584213e+01</td>\n",
       "      <td>1.019992e+02</td>\n",
       "    </tr>\n",
       "    <tr>\n",
       "      <th>min</th>\n",
       "      <td>202204.0</td>\n",
       "      <td>0.000000e+00</td>\n",
       "      <td>1.101000e+04</td>\n",
       "      <td>1.101000e+04</td>\n",
       "      <td>0.000000e+00</td>\n",
       "      <td>1.000000e+01</td>\n",
       "      <td>3.000000e+00</td>\n",
       "    </tr>\n",
       "    <tr>\n",
       "      <th>25%</th>\n",
       "      <td>202204.0</td>\n",
       "      <td>1.000000e+01</td>\n",
       "      <td>1.110000e+04</td>\n",
       "      <td>1.111000e+04</td>\n",
       "      <td>3.000000e+01</td>\n",
       "      <td>2.000000e+01</td>\n",
       "      <td>4.640000e+00</td>\n",
       "    </tr>\n",
       "    <tr>\n",
       "      <th>50%</th>\n",
       "      <td>202204.0</td>\n",
       "      <td>1.400000e+01</td>\n",
       "      <td>1.120000e+04</td>\n",
       "      <td>1.120000e+04</td>\n",
       "      <td>4.500000e+01</td>\n",
       "      <td>3.000000e+01</td>\n",
       "      <td>8.090000e+00</td>\n",
       "    </tr>\n",
       "    <tr>\n",
       "      <th>75%</th>\n",
       "      <td>202204.0</td>\n",
       "      <td>1.800000e+01</td>\n",
       "      <td>3.101400e+04</td>\n",
       "      <td>3.102100e+04</td>\n",
       "      <td>5.500000e+01</td>\n",
       "      <td>4.000000e+01</td>\n",
       "      <td>1.579000e+01</td>\n",
       "    </tr>\n",
       "    <tr>\n",
       "      <th>max</th>\n",
       "      <td>202204.0</td>\n",
       "      <td>2.300000e+01</td>\n",
       "      <td>3.900000e+04</td>\n",
       "      <td>3.900000e+04</td>\n",
       "      <td>8.000000e+01</td>\n",
       "      <td>7.700000e+02</td>\n",
       "      <td>1.466546e+04</td>\n",
       "    </tr>\n",
       "  </tbody>\n",
       "</table>\n",
       "</div>"
      ],
      "text/plain": [
       "             대상연월          도착시간     출발 시군구 코드     도착 시군구 코드            나이  \\\n",
       "count  28923054.0  2.892305e+07  2.892305e+07  2.892305e+07  2.892305e+07   \n",
       "mean     202204.0  1.365597e+01  1.712362e+04  1.719750e+04  4.279614e+01   \n",
       "std           0.0  5.849675e+00  9.046478e+03  9.063818e+03  1.777485e+01   \n",
       "min      202204.0  0.000000e+00  1.101000e+04  1.101000e+04  0.000000e+00   \n",
       "25%      202204.0  1.000000e+01  1.110000e+04  1.111000e+04  3.000000e+01   \n",
       "50%      202204.0  1.400000e+01  1.120000e+04  1.120000e+04  4.500000e+01   \n",
       "75%      202204.0  1.800000e+01  3.101400e+04  3.102100e+04  5.500000e+01   \n",
       "max      202204.0  2.300000e+01  3.900000e+04  3.900000e+04  8.000000e+01   \n",
       "\n",
       "        평균 이동 시간(분)       이동인구(합)  \n",
       "count  2.892305e+07  2.892305e+07  \n",
       "mean   3.279829e+01  2.504487e+01  \n",
       "std    2.584213e+01  1.019992e+02  \n",
       "min    1.000000e+01  3.000000e+00  \n",
       "25%    2.000000e+01  4.640000e+00  \n",
       "50%    3.000000e+01  8.090000e+00  \n",
       "75%    4.000000e+01  1.579000e+01  \n",
       "max    7.700000e+02  1.466546e+04  "
      ]
     },
     "execution_count": 15,
     "metadata": {},
     "output_type": "execute_result"
    }
   ],
   "source": [
    "# seoul_moving1과 비교했을 때 min,25%,50% 값에서 차이를 보임\n",
    "seoul_moving3.describe()"
   ]
  },
  {
   "cell_type": "markdown",
   "id": "3666e46c",
   "metadata": {
    "id": "3666e46c"
   },
   "source": [
    "#### [실습문제4] 이동유형, 요일, 성별 변수의 value수를 파악\n",
    "\n",
    "* 역시나 value_counts()를 활용해 봅시다."
   ]
  },
  {
   "cell_type": "code",
   "execution_count": 16,
   "id": "3cd0103e",
   "metadata": {
    "id": "3cd0103e"
   },
   "outputs": [
    {
     "data": {
      "text/plain": [
       "EH    5757073\n",
       "HE    5520005\n",
       "EE    5085099\n",
       "WH    3108026\n",
       "WE    2809148\n",
       "HW    2695189\n",
       "EW    2304535\n",
       "WW    1026134\n",
       "HH     617845\n",
       "Name: 이동유형, dtype: int64"
      ]
     },
     "execution_count": 16,
     "metadata": {},
     "output_type": "execute_result"
    }
   ],
   "source": [
    "# 아래에 실습코드를 작성하고 결과를 확인합니다.\n",
    "\n",
    "# 주간,야간상주지를 제외한 곳에서 야간상주지로 이동한 경우가 가장 많음\n",
    "seoul_moving3['이동유형'].value_counts()"
   ]
  },
  {
   "cell_type": "code",
   "execution_count": 17,
   "id": "1cdd246f",
   "metadata": {
    "id": "1cdd246f"
   },
   "outputs": [
    {
     "data": {
      "text/plain": [
       "목    1002822\n",
       "수     988911\n",
       "화     981719\n",
       "월     976568\n",
       "일     947570\n",
       "토     938161\n",
       "금     928376\n",
       "Name: 요일, dtype: int64"
      ]
     },
     "execution_count": 17,
     "metadata": {},
     "output_type": "execute_result"
    }
   ],
   "source": [
    "# 아래에 실습코드를 작성하고 결과를 확인합니다.\n",
    "\n",
    "# 평균으로 계산 시 목요일 값이 가장 많음\n",
    "week=seoul_moving3['요일'].value_counts()\n",
    "week['일']=week['일']//4\n",
    "week['월']=week['월']//4\n",
    "week['화']=week['화']//4\n",
    "week['수']=week['수']//4\n",
    "week['목']=week['목']//4\n",
    "week['금']=week['금']//5\n",
    "week['토']=week['토']//5\n",
    "week.sort_values(ascending=False)\n"
   ]
  },
  {
   "cell_type": "code",
   "execution_count": 18,
   "id": "a24d766d",
   "metadata": {},
   "outputs": [
    {
     "data": {
      "text/plain": [
       "토    4690806\n",
       "금    4641881\n",
       "목    4011291\n",
       "수    3955646\n",
       "화    3926876\n",
       "월    3906272\n",
       "일    3790282\n",
       "Name: 요일, dtype: int64"
      ]
     },
     "execution_count": 18,
     "metadata": {},
     "output_type": "execute_result"
    }
   ],
   "source": [
    "# 단순 계산 시 토요일 값이 가장 많음\n",
    "seoul_moving3['요일'].value_counts().sort_values(ascending=False)"
   ]
  },
  {
   "cell_type": "code",
   "execution_count": 19,
   "id": "e63b3b15",
   "metadata": {},
   "outputs": [
    {
     "data": {
      "text/plain": [
       "M    16355029\n",
       "F    12568025\n",
       "Name: 성별, dtype: int64"
      ]
     },
     "execution_count": 19,
     "metadata": {},
     "output_type": "execute_result"
    }
   ],
   "source": [
    "# 남성 값이 여성 값보다 많음\n",
    "seoul_moving3['성별'].value_counts()"
   ]
  },
  {
   "cell_type": "markdown",
   "id": "ba257395",
   "metadata": {
    "id": "ba257395"
   },
   "source": [
    "* 4월의 요일 수를 알려드릴게요\n",
    "    * 일 : 4, 월 : 4, 화 : 4, 수 : 4, 목 : 4, 금 : 5, 토 : 5"
   ]
  },
  {
   "cell_type": "markdown",
   "id": "6356b00c",
   "metadata": {
    "id": "6356b00c"
   },
   "source": [
    "#### [실습문제5] 어느 요일의 심야 이동이 가장 많을까요?"
   ]
  },
  {
   "cell_type": "code",
   "execution_count": 20,
   "id": "470c3d5d",
   "metadata": {
    "id": "470c3d5d"
   },
   "outputs": [
    {
     "data": {
      "text/plain": [
       "대상연월               1\n",
       "요일                 7\n",
       "도착시간               5\n",
       "출발 시군구 코드         91\n",
       "도착 시군구 코드         91\n",
       "성별                 2\n",
       "나이                16\n",
       "이동유형               9\n",
       "평균 이동 시간(분)       68\n",
       "이동인구(합)        24629\n",
       "dtype: int64"
      ]
     },
     "execution_count": 20,
     "metadata": {},
     "output_type": "execute_result"
    }
   ],
   "source": [
    "# 아래에 실습코드를 작성하고 결과를 확인합니다.\n",
    "\n",
    "# 심야 시간을 0 ~ 4시라고 가정\n",
    "night_moving=seoul_moving3.query('도착시간 in [0,1,2,3,4]')\n",
    "night_moving.nunique()"
   ]
  },
  {
   "cell_type": "code",
   "execution_count": 21,
   "id": "18f64369",
   "metadata": {},
   "outputs": [
    {
     "data": {
      "text/plain": [
       "요일\n",
       "토    5800730.94\n",
       "금    4675204.37\n",
       "일    4027938.49\n",
       "목    3726660.90\n",
       "수    3610585.58\n",
       "화    3431543.10\n",
       "월    2923249.85\n",
       "Name: 이동인구(합), dtype: float64"
      ]
     },
     "execution_count": 21,
     "metadata": {},
     "output_type": "execute_result"
    }
   ],
   "source": [
    "# 토요일이 심야 이동이 가장 많음, 불금 때문\n",
    "night_moving.groupby(['요일'])['이동인구(합)'].sum().sort_values(ascending=False)"
   ]
  },
  {
   "cell_type": "markdown",
   "id": "45594fc1",
   "metadata": {
    "id": "45594fc1"
   },
   "source": [
    "#### [실습문제6] 서울 지역의 데이터만 골라 보도록 하겠습니다.\n",
    "\n",
    "* 우리는 서울시의 데이터만 필요합니다!\n",
    "\n",
    "* 출발과 도착이 모두 서울인 데이터만 추출해 주세요."
   ]
  },
  {
   "cell_type": "code",
   "execution_count": 22,
   "id": "39f5c2de",
   "metadata": {},
   "outputs": [],
   "source": [
    "# 출발이 서울인 행 추출\n",
    "start=seoul_moving3['출발 시군구 코드'].isin([11010,11020,11030,11040,11050,11060,11070,11080,11090,11100,11110,11120,11130,11140,11150,11160,\n",
    "                                 11170,11180,11190,11200,11210,11220,11230,11240,11250 ])\n",
    "# 도착이 서울인 행 추출\n",
    "end=seoul_moving3['도착 시군구 코드'].isin([11010,11020,11030,11040,11050,11060,11070,11080,11090,11100,11110,11120,11130,11140,11150,11160,\n",
    "                                 11170,11180,11190,11200,11210,11220,11230,11240,11250 ])"
   ]
  },
  {
   "cell_type": "code",
   "execution_count": 23,
   "id": "01b30540",
   "metadata": {},
   "outputs": [
    {
     "data": {
      "text/html": [
       "<div>\n",
       "<style scoped>\n",
       "    .dataframe tbody tr th:only-of-type {\n",
       "        vertical-align: middle;\n",
       "    }\n",
       "\n",
       "    .dataframe tbody tr th {\n",
       "        vertical-align: top;\n",
       "    }\n",
       "\n",
       "    .dataframe thead th {\n",
       "        text-align: right;\n",
       "    }\n",
       "</style>\n",
       "<table border=\"1\" class=\"dataframe\">\n",
       "  <thead>\n",
       "    <tr style=\"text-align: right;\">\n",
       "      <th></th>\n",
       "      <th>대상연월</th>\n",
       "      <th>요일</th>\n",
       "      <th>도착시간</th>\n",
       "      <th>출발 시군구 코드</th>\n",
       "      <th>도착 시군구 코드</th>\n",
       "      <th>성별</th>\n",
       "      <th>나이</th>\n",
       "      <th>이동유형</th>\n",
       "      <th>평균 이동 시간(분)</th>\n",
       "      <th>이동인구(합)</th>\n",
       "    </tr>\n",
       "  </thead>\n",
       "  <tbody>\n",
       "    <tr>\n",
       "      <th>0</th>\n",
       "      <td>202204</td>\n",
       "      <td>일</td>\n",
       "      <td>0</td>\n",
       "      <td>11010</td>\n",
       "      <td>11010</td>\n",
       "      <td>F</td>\n",
       "      <td>0</td>\n",
       "      <td>EE</td>\n",
       "      <td>10</td>\n",
       "      <td>28.02</td>\n",
       "    </tr>\n",
       "    <tr>\n",
       "      <th>1</th>\n",
       "      <td>202204</td>\n",
       "      <td>일</td>\n",
       "      <td>0</td>\n",
       "      <td>11010</td>\n",
       "      <td>11010</td>\n",
       "      <td>F</td>\n",
       "      <td>0</td>\n",
       "      <td>EH</td>\n",
       "      <td>10</td>\n",
       "      <td>27.52</td>\n",
       "    </tr>\n",
       "    <tr>\n",
       "      <th>2</th>\n",
       "      <td>202204</td>\n",
       "      <td>일</td>\n",
       "      <td>0</td>\n",
       "      <td>11010</td>\n",
       "      <td>11010</td>\n",
       "      <td>F</td>\n",
       "      <td>0</td>\n",
       "      <td>HE</td>\n",
       "      <td>10</td>\n",
       "      <td>27.83</td>\n",
       "    </tr>\n",
       "    <tr>\n",
       "      <th>3</th>\n",
       "      <td>202204</td>\n",
       "      <td>일</td>\n",
       "      <td>0</td>\n",
       "      <td>11010</td>\n",
       "      <td>11010</td>\n",
       "      <td>F</td>\n",
       "      <td>10</td>\n",
       "      <td>HW</td>\n",
       "      <td>10</td>\n",
       "      <td>6.05</td>\n",
       "    </tr>\n",
       "    <tr>\n",
       "      <th>4</th>\n",
       "      <td>202204</td>\n",
       "      <td>일</td>\n",
       "      <td>0</td>\n",
       "      <td>11010</td>\n",
       "      <td>11010</td>\n",
       "      <td>F</td>\n",
       "      <td>10</td>\n",
       "      <td>EH</td>\n",
       "      <td>90</td>\n",
       "      <td>5.95</td>\n",
       "    </tr>\n",
       "    <tr>\n",
       "      <th>5</th>\n",
       "      <td>202204</td>\n",
       "      <td>일</td>\n",
       "      <td>0</td>\n",
       "      <td>11010</td>\n",
       "      <td>11010</td>\n",
       "      <td>F</td>\n",
       "      <td>10</td>\n",
       "      <td>WH</td>\n",
       "      <td>10</td>\n",
       "      <td>17.89</td>\n",
       "    </tr>\n",
       "    <tr>\n",
       "      <th>6</th>\n",
       "      <td>202204</td>\n",
       "      <td>일</td>\n",
       "      <td>0</td>\n",
       "      <td>11010</td>\n",
       "      <td>11010</td>\n",
       "      <td>F</td>\n",
       "      <td>15</td>\n",
       "      <td>EH</td>\n",
       "      <td>10</td>\n",
       "      <td>114.23</td>\n",
       "    </tr>\n",
       "    <tr>\n",
       "      <th>7</th>\n",
       "      <td>202204</td>\n",
       "      <td>일</td>\n",
       "      <td>0</td>\n",
       "      <td>11010</td>\n",
       "      <td>11010</td>\n",
       "      <td>F</td>\n",
       "      <td>15</td>\n",
       "      <td>HH</td>\n",
       "      <td>20</td>\n",
       "      <td>20.07</td>\n",
       "    </tr>\n",
       "    <tr>\n",
       "      <th>8</th>\n",
       "      <td>202204</td>\n",
       "      <td>일</td>\n",
       "      <td>0</td>\n",
       "      <td>11010</td>\n",
       "      <td>11010</td>\n",
       "      <td>F</td>\n",
       "      <td>15</td>\n",
       "      <td>HE</td>\n",
       "      <td>10</td>\n",
       "      <td>8.03</td>\n",
       "    </tr>\n",
       "    <tr>\n",
       "      <th>9</th>\n",
       "      <td>202204</td>\n",
       "      <td>일</td>\n",
       "      <td>0</td>\n",
       "      <td>11010</td>\n",
       "      <td>11010</td>\n",
       "      <td>F</td>\n",
       "      <td>15</td>\n",
       "      <td>HW</td>\n",
       "      <td>10</td>\n",
       "      <td>8.04</td>\n",
       "    </tr>\n",
       "    <tr>\n",
       "      <th>10</th>\n",
       "      <td>202204</td>\n",
       "      <td>일</td>\n",
       "      <td>0</td>\n",
       "      <td>11010</td>\n",
       "      <td>11010</td>\n",
       "      <td>F</td>\n",
       "      <td>15</td>\n",
       "      <td>EE</td>\n",
       "      <td>10</td>\n",
       "      <td>40.48</td>\n",
       "    </tr>\n",
       "    <tr>\n",
       "      <th>11</th>\n",
       "      <td>202204</td>\n",
       "      <td>일</td>\n",
       "      <td>0</td>\n",
       "      <td>11010</td>\n",
       "      <td>11010</td>\n",
       "      <td>F</td>\n",
       "      <td>15</td>\n",
       "      <td>WW</td>\n",
       "      <td>10</td>\n",
       "      <td>10.12</td>\n",
       "    </tr>\n",
       "    <tr>\n",
       "      <th>12</th>\n",
       "      <td>202204</td>\n",
       "      <td>일</td>\n",
       "      <td>0</td>\n",
       "      <td>11010</td>\n",
       "      <td>11010</td>\n",
       "      <td>F</td>\n",
       "      <td>15</td>\n",
       "      <td>WE</td>\n",
       "      <td>10</td>\n",
       "      <td>4.03</td>\n",
       "    </tr>\n",
       "    <tr>\n",
       "      <th>13</th>\n",
       "      <td>202204</td>\n",
       "      <td>일</td>\n",
       "      <td>0</td>\n",
       "      <td>11010</td>\n",
       "      <td>11010</td>\n",
       "      <td>F</td>\n",
       "      <td>15</td>\n",
       "      <td>WH</td>\n",
       "      <td>10</td>\n",
       "      <td>72.38</td>\n",
       "    </tr>\n",
       "    <tr>\n",
       "      <th>14</th>\n",
       "      <td>202204</td>\n",
       "      <td>일</td>\n",
       "      <td>0</td>\n",
       "      <td>11010</td>\n",
       "      <td>11010</td>\n",
       "      <td>F</td>\n",
       "      <td>15</td>\n",
       "      <td>EW</td>\n",
       "      <td>10</td>\n",
       "      <td>4.06</td>\n",
       "    </tr>\n",
       "    <tr>\n",
       "      <th>15</th>\n",
       "      <td>202204</td>\n",
       "      <td>일</td>\n",
       "      <td>0</td>\n",
       "      <td>11010</td>\n",
       "      <td>11010</td>\n",
       "      <td>F</td>\n",
       "      <td>20</td>\n",
       "      <td>WH</td>\n",
       "      <td>10</td>\n",
       "      <td>344.25</td>\n",
       "    </tr>\n",
       "    <tr>\n",
       "      <th>16</th>\n",
       "      <td>202204</td>\n",
       "      <td>일</td>\n",
       "      <td>0</td>\n",
       "      <td>11010</td>\n",
       "      <td>11010</td>\n",
       "      <td>F</td>\n",
       "      <td>20</td>\n",
       "      <td>WE</td>\n",
       "      <td>10</td>\n",
       "      <td>14.83</td>\n",
       "    </tr>\n",
       "    <tr>\n",
       "      <th>17</th>\n",
       "      <td>202204</td>\n",
       "      <td>일</td>\n",
       "      <td>0</td>\n",
       "      <td>11010</td>\n",
       "      <td>11010</td>\n",
       "      <td>F</td>\n",
       "      <td>20</td>\n",
       "      <td>WW</td>\n",
       "      <td>20</td>\n",
       "      <td>44.39</td>\n",
       "    </tr>\n",
       "    <tr>\n",
       "      <th>18</th>\n",
       "      <td>202204</td>\n",
       "      <td>일</td>\n",
       "      <td>0</td>\n",
       "      <td>11010</td>\n",
       "      <td>11010</td>\n",
       "      <td>F</td>\n",
       "      <td>20</td>\n",
       "      <td>HH</td>\n",
       "      <td>10</td>\n",
       "      <td>33.72</td>\n",
       "    </tr>\n",
       "    <tr>\n",
       "      <th>19</th>\n",
       "      <td>202204</td>\n",
       "      <td>일</td>\n",
       "      <td>0</td>\n",
       "      <td>11010</td>\n",
       "      <td>11010</td>\n",
       "      <td>F</td>\n",
       "      <td>20</td>\n",
       "      <td>EW</td>\n",
       "      <td>10</td>\n",
       "      <td>19.19</td>\n",
       "    </tr>\n",
       "    <tr>\n",
       "      <th>20</th>\n",
       "      <td>202204</td>\n",
       "      <td>일</td>\n",
       "      <td>0</td>\n",
       "      <td>11010</td>\n",
       "      <td>11010</td>\n",
       "      <td>F</td>\n",
       "      <td>20</td>\n",
       "      <td>EE</td>\n",
       "      <td>10</td>\n",
       "      <td>277.72</td>\n",
       "    </tr>\n",
       "    <tr>\n",
       "      <th>21</th>\n",
       "      <td>202204</td>\n",
       "      <td>일</td>\n",
       "      <td>0</td>\n",
       "      <td>11010</td>\n",
       "      <td>11010</td>\n",
       "      <td>F</td>\n",
       "      <td>20</td>\n",
       "      <td>EH</td>\n",
       "      <td>20</td>\n",
       "      <td>290.45</td>\n",
       "    </tr>\n",
       "    <tr>\n",
       "      <th>22</th>\n",
       "      <td>202204</td>\n",
       "      <td>일</td>\n",
       "      <td>0</td>\n",
       "      <td>11010</td>\n",
       "      <td>11010</td>\n",
       "      <td>F</td>\n",
       "      <td>20</td>\n",
       "      <td>HE</td>\n",
       "      <td>10</td>\n",
       "      <td>39.33</td>\n",
       "    </tr>\n",
       "    <tr>\n",
       "      <th>23</th>\n",
       "      <td>202204</td>\n",
       "      <td>일</td>\n",
       "      <td>0</td>\n",
       "      <td>11010</td>\n",
       "      <td>11010</td>\n",
       "      <td>F</td>\n",
       "      <td>25</td>\n",
       "      <td>EW</td>\n",
       "      <td>10</td>\n",
       "      <td>12.22</td>\n",
       "    </tr>\n",
       "    <tr>\n",
       "      <th>24</th>\n",
       "      <td>202204</td>\n",
       "      <td>일</td>\n",
       "      <td>0</td>\n",
       "      <td>11010</td>\n",
       "      <td>11010</td>\n",
       "      <td>F</td>\n",
       "      <td>25</td>\n",
       "      <td>WE</td>\n",
       "      <td>10</td>\n",
       "      <td>16.24</td>\n",
       "    </tr>\n",
       "    <tr>\n",
       "      <th>25</th>\n",
       "      <td>202204</td>\n",
       "      <td>일</td>\n",
       "      <td>0</td>\n",
       "      <td>11010</td>\n",
       "      <td>11010</td>\n",
       "      <td>F</td>\n",
       "      <td>25</td>\n",
       "      <td>HW</td>\n",
       "      <td>10</td>\n",
       "      <td>8.09</td>\n",
       "    </tr>\n",
       "    <tr>\n",
       "      <th>26</th>\n",
       "      <td>202204</td>\n",
       "      <td>일</td>\n",
       "      <td>0</td>\n",
       "      <td>11010</td>\n",
       "      <td>11010</td>\n",
       "      <td>F</td>\n",
       "      <td>25</td>\n",
       "      <td>HE</td>\n",
       "      <td>30</td>\n",
       "      <td>10.13</td>\n",
       "    </tr>\n",
       "    <tr>\n",
       "      <th>27</th>\n",
       "      <td>202204</td>\n",
       "      <td>일</td>\n",
       "      <td>0</td>\n",
       "      <td>11010</td>\n",
       "      <td>11010</td>\n",
       "      <td>F</td>\n",
       "      <td>25</td>\n",
       "      <td>HH</td>\n",
       "      <td>10</td>\n",
       "      <td>38.53</td>\n",
       "    </tr>\n",
       "    <tr>\n",
       "      <th>28</th>\n",
       "      <td>202204</td>\n",
       "      <td>일</td>\n",
       "      <td>0</td>\n",
       "      <td>11010</td>\n",
       "      <td>11010</td>\n",
       "      <td>F</td>\n",
       "      <td>25</td>\n",
       "      <td>EH</td>\n",
       "      <td>20</td>\n",
       "      <td>186.50</td>\n",
       "    </tr>\n",
       "    <tr>\n",
       "      <th>29</th>\n",
       "      <td>202204</td>\n",
       "      <td>일</td>\n",
       "      <td>0</td>\n",
       "      <td>11010</td>\n",
       "      <td>11010</td>\n",
       "      <td>F</td>\n",
       "      <td>25</td>\n",
       "      <td>WH</td>\n",
       "      <td>10</td>\n",
       "      <td>95.15</td>\n",
       "    </tr>\n",
       "  </tbody>\n",
       "</table>\n",
       "</div>"
      ],
      "text/plain": [
       "      대상연월 요일  도착시간  출발 시군구 코드  도착 시군구 코드 성별  나이 이동유형  평균 이동 시간(분)  이동인구(합)\n",
       "0   202204  일     0      11010      11010  F   0   EE           10    28.02\n",
       "1   202204  일     0      11010      11010  F   0   EH           10    27.52\n",
       "2   202204  일     0      11010      11010  F   0   HE           10    27.83\n",
       "3   202204  일     0      11010      11010  F  10   HW           10     6.05\n",
       "4   202204  일     0      11010      11010  F  10   EH           90     5.95\n",
       "5   202204  일     0      11010      11010  F  10   WH           10    17.89\n",
       "6   202204  일     0      11010      11010  F  15   EH           10   114.23\n",
       "7   202204  일     0      11010      11010  F  15   HH           20    20.07\n",
       "8   202204  일     0      11010      11010  F  15   HE           10     8.03\n",
       "9   202204  일     0      11010      11010  F  15   HW           10     8.04\n",
       "10  202204  일     0      11010      11010  F  15   EE           10    40.48\n",
       "11  202204  일     0      11010      11010  F  15   WW           10    10.12\n",
       "12  202204  일     0      11010      11010  F  15   WE           10     4.03\n",
       "13  202204  일     0      11010      11010  F  15   WH           10    72.38\n",
       "14  202204  일     0      11010      11010  F  15   EW           10     4.06\n",
       "15  202204  일     0      11010      11010  F  20   WH           10   344.25\n",
       "16  202204  일     0      11010      11010  F  20   WE           10    14.83\n",
       "17  202204  일     0      11010      11010  F  20   WW           20    44.39\n",
       "18  202204  일     0      11010      11010  F  20   HH           10    33.72\n",
       "19  202204  일     0      11010      11010  F  20   EW           10    19.19\n",
       "20  202204  일     0      11010      11010  F  20   EE           10   277.72\n",
       "21  202204  일     0      11010      11010  F  20   EH           20   290.45\n",
       "22  202204  일     0      11010      11010  F  20   HE           10    39.33\n",
       "23  202204  일     0      11010      11010  F  25   EW           10    12.22\n",
       "24  202204  일     0      11010      11010  F  25   WE           10    16.24\n",
       "25  202204  일     0      11010      11010  F  25   HW           10     8.09\n",
       "26  202204  일     0      11010      11010  F  25   HE           30    10.13\n",
       "27  202204  일     0      11010      11010  F  25   HH           10    38.53\n",
       "28  202204  일     0      11010      11010  F  25   EH           20   186.50\n",
       "29  202204  일     0      11010      11010  F  25   WH           10    95.15"
      ]
     },
     "execution_count": 23,
     "metadata": {},
     "output_type": "execute_result"
    }
   ],
   "source": [
    "# 출발과 도착이 서울인 행 추출\n",
    "only_seoul=start&end\n",
    "seoul=seoul_moving3[only_seoul]\n",
    "seoul.head(30)"
   ]
  },
  {
   "cell_type": "code",
   "execution_count": 24,
   "id": "e03de6ff",
   "metadata": {},
   "outputs": [
    {
     "data": {
      "text/plain": [
       "대상연월                1\n",
       "요일                  7\n",
       "도착시간               24\n",
       "출발 시군구 코드          25\n",
       "도착 시군구 코드          25\n",
       "성별                  2\n",
       "나이                 16\n",
       "이동유형                9\n",
       "평균 이동 시간(분)        30\n",
       "이동인구(합)        135434\n",
       "dtype: int64"
      ]
     },
     "execution_count": 24,
     "metadata": {},
     "output_type": "execute_result"
    }
   ],
   "source": [
    "# 출발,도착 시군구 코드 25개 확인\n",
    "seoul.nunique()"
   ]
  },
  {
   "cell_type": "markdown",
   "id": "e968a0ae",
   "metadata": {
    "id": "e968a0ae"
   },
   "source": [
    "#### [실습문제7] 서울지역의 구 별로 groupby하여 데이터를 확인하겠습니다 (유동인구 기준)\n",
    "\n",
    "* 유출이 제일 많은 구는?\n",
    "\n",
    "* 유입이 제일 많은 구는?\n",
    "\n",
    "* 유출이 제일 적은 구는?\n",
    "\n",
    "* 유입이 제일 적은 구는?"
   ]
  },
  {
   "cell_type": "markdown",
   "id": "ab98b422",
   "metadata": {
    "id": "ab98b422"
   },
   "source": [
    "* 참고자료 서울 구별 코드\n",
    "    * 11010\t종로구\n",
    "    * 11020\t중구\n",
    "    * 11030\t용산구\n",
    "    * 11040\t성동구\n",
    "    * 11050\t광진구\n",
    "    * 11060\t동대문구\n",
    "    * 11070\t중랑구\n",
    "    * 11080\t성북구\n",
    "    * 11090\t강북구\n",
    "    * 11100\t도봉구\n",
    "    * 11110\t노원구\n",
    "    * 11120\t은평구\n",
    "    * 11130\t서대문구\n",
    "    * 11140\t마포구\n",
    "    * 11150\t양천구\n",
    "    * 11160\t강서구\n",
    "    * 11170\t구로구\n",
    "    * 11180\t금천구\n",
    "    * 11190\t영등포구\n",
    "    * 11200\t동작구\n",
    "    * 11210\t관악구\n",
    "    * 11220\t서초구\n",
    "    * 11230\t강남구\n",
    "    * 11240\t송파구\n",
    "    * 11250\t강동구"
   ]
  },
  {
   "cell_type": "code",
   "execution_count": 27,
   "id": "38564819",
   "metadata": {
    "id": "38564819"
   },
   "outputs": [
    {
     "data": {
      "text/plain": [
       "<AxesSubplot: xlabel='출발 시군구 코드'>"
      ]
     },
     "execution_count": 27,
     "metadata": {},
     "output_type": "execute_result"
    },
    {
     "data": {
      "image/png": "[encoded data removed]",
      "text/plain": [
       "<Figure size 640x480 with 1 Axes>"
      ]
     },
     "metadata": {},
     "output_type": "display_data"
    }
   ],
   "source": [
    "# 아래에 실습코드를 작성하고 결과를 확인합니다.\n",
    "\n",
    "# 유츌 = 출발 시군구 코드가 해당 구\n",
    "# 유입 = 도착 시군구 코드가 해당 구\n",
    "\n",
    "# 유입과 유츌 둘 다 아닌 행을 제외하고 추출\n",
    "seoul_move=seoul[seoul['출발 시군구 코드']!=seoul['도착 시군구 코드']]\n",
    "\n",
    "# 유출\n",
    "seoul_move.groupby(['출발 시군구 코드'])['이동인구(합)'].sum().sort_values(ascending=False).plot(kind='bar')"
   ]
  },
  {
   "cell_type": "code",
   "execution_count": 105,
   "id": "5b74bb6d",
   "metadata": {
    "id": "5b74bb6d"
   },
   "outputs": [
    {
     "data": {
      "text/plain": [
       "<AxesSubplot:xlabel='도착 시군구 코드'>"
      ]
     },
     "execution_count": 105,
     "metadata": {},
     "output_type": "execute_result"
    },
    {
     "data": {
      "image/png": "[encoded data removed]",
      "text/plain": [
       "<Figure size 640x480 with 1 Axes>"
      ]
     },
     "metadata": {},
     "output_type": "display_data"
    }
   ],
   "source": [
    "# 아래에 실습코드를 작성하고 결과를 확인합니다.\n",
    "# 유입\n",
    "seoul_move.groupby(['도착 시군구 코드'])['이동인구(합)'].sum().sort_values(ascending=False).plot(kind='bar')"
   ]
  },
  {
   "cell_type": "markdown",
   "id": "1ace49d0",
   "metadata": {
    "id": "1ace49d0"
   },
   "source": [
    "#### [실습문제8] 낮시간만 볼게요 심야버스 제외하겠습니다\n",
    "\n",
    "* 도착시간 0부터 4까지(0:00 ~ 4:59) 제거"
   ]
  },
  {
   "cell_type": "code",
   "execution_count": 28,
   "id": "d54050e1",
   "metadata": {
    "id": "d54050e1"
   },
   "outputs": [
    {
     "data": {
      "text/plain": [
       "대상연월                1\n",
       "요일                  7\n",
       "도착시간               19\n",
       "출발 시군구 코드          25\n",
       "도착 시군구 코드          25\n",
       "성별                  2\n",
       "나이                 16\n",
       "이동유형                9\n",
       "평균 이동 시간(분)        30\n",
       "이동인구(합)        135251\n",
       "dtype: int64"
      ]
     },
     "execution_count": 28,
     "metadata": {},
     "output_type": "execute_result"
    }
   ],
   "source": [
    "# 아래에 실습코드를 작성하고 결과를 확인합니다.\n",
    "seoul_day=seoul.query('도착시간 !=[0,1,2,3,4]')\n",
    "seoul_day.nunique()\n",
    "# 서울의 낮 유동인구 데이터\n",
    "# 24 - 5(0~4) = 19"
   ]
  },
  {
   "cell_type": "code",
   "execution_count": 29,
   "id": "94ae1e63",
   "metadata": {},
   "outputs": [
    {
     "name": "stdout",
     "output_type": "stream",
     "text": [
      "<class 'pandas.core.frame.DataFrame'>\n",
      "Int64Index: 9555938 entries, 0 to 920414\n",
      "Data columns (total 10 columns):\n",
      " #   Column       Dtype  \n",
      "---  ------       -----  \n",
      " 0   대상연월         int64  \n",
      " 1   요일           object \n",
      " 2   도착시간         int64  \n",
      " 3   출발 시군구 코드    int64  \n",
      " 4   도착 시군구 코드    int64  \n",
      " 5   성별           object \n",
      " 6   나이           int64  \n",
      " 7   이동유형         object \n",
      " 8   평균 이동 시간(분)  int64  \n",
      " 9   이동인구(합)      float64\n",
      "dtypes: float64(1), int64(6), object(3)\n",
      "memory usage: 802.0+ MB\n"
     ]
    }
   ],
   "source": [
    "seoul_day.info()"
   ]
  },
  {
   "cell_type": "code",
   "execution_count": 30,
   "id": "a407eba4",
   "metadata": {},
   "outputs": [
    {
     "data": {
      "text/html": [
       "<div>\n",
       "<style scoped>\n",
       "    .dataframe tbody tr th:only-of-type {\n",
       "        vertical-align: middle;\n",
       "    }\n",
       "\n",
       "    .dataframe tbody tr th {\n",
       "        vertical-align: top;\n",
       "    }\n",
       "\n",
       "    .dataframe thead th {\n",
       "        text-align: right;\n",
       "    }\n",
       "</style>\n",
       "<table border=\"1\" class=\"dataframe\">\n",
       "  <thead>\n",
       "    <tr style=\"text-align: right;\">\n",
       "      <th></th>\n",
       "      <th>대상연월</th>\n",
       "      <th>요일</th>\n",
       "      <th>도착시간</th>\n",
       "      <th>출발 시군구 코드</th>\n",
       "      <th>도착 시군구 코드</th>\n",
       "      <th>성별</th>\n",
       "      <th>나이</th>\n",
       "      <th>이동유형</th>\n",
       "      <th>평균 이동 시간(분)</th>\n",
       "      <th>이동인구(합)</th>\n",
       "    </tr>\n",
       "  </thead>\n",
       "  <tbody>\n",
       "    <tr>\n",
       "      <th>0</th>\n",
       "      <td>202204</td>\n",
       "      <td>일</td>\n",
       "      <td>5</td>\n",
       "      <td>11010</td>\n",
       "      <td>11010</td>\n",
       "      <td>F</td>\n",
       "      <td>10</td>\n",
       "      <td>HE</td>\n",
       "      <td>10</td>\n",
       "      <td>5.96</td>\n",
       "    </tr>\n",
       "    <tr>\n",
       "      <th>1</th>\n",
       "      <td>202204</td>\n",
       "      <td>일</td>\n",
       "      <td>5</td>\n",
       "      <td>11010</td>\n",
       "      <td>11010</td>\n",
       "      <td>F</td>\n",
       "      <td>10</td>\n",
       "      <td>WH</td>\n",
       "      <td>10</td>\n",
       "      <td>5.88</td>\n",
       "    </tr>\n",
       "    <tr>\n",
       "      <th>2</th>\n",
       "      <td>202204</td>\n",
       "      <td>일</td>\n",
       "      <td>5</td>\n",
       "      <td>11010</td>\n",
       "      <td>11010</td>\n",
       "      <td>F</td>\n",
       "      <td>15</td>\n",
       "      <td>HE</td>\n",
       "      <td>10</td>\n",
       "      <td>4.06</td>\n",
       "    </tr>\n",
       "    <tr>\n",
       "      <th>3</th>\n",
       "      <td>202204</td>\n",
       "      <td>일</td>\n",
       "      <td>5</td>\n",
       "      <td>11010</td>\n",
       "      <td>11010</td>\n",
       "      <td>F</td>\n",
       "      <td>15</td>\n",
       "      <td>EW</td>\n",
       "      <td>10</td>\n",
       "      <td>4.06</td>\n",
       "    </tr>\n",
       "    <tr>\n",
       "      <th>4</th>\n",
       "      <td>202204</td>\n",
       "      <td>일</td>\n",
       "      <td>5</td>\n",
       "      <td>11010</td>\n",
       "      <td>11010</td>\n",
       "      <td>F</td>\n",
       "      <td>15</td>\n",
       "      <td>EH</td>\n",
       "      <td>10</td>\n",
       "      <td>10.08</td>\n",
       "    </tr>\n",
       "  </tbody>\n",
       "</table>\n",
       "</div>"
      ],
      "text/plain": [
       "     대상연월 요일  도착시간  출발 시군구 코드  도착 시군구 코드 성별  나이 이동유형  평균 이동 시간(분)  이동인구(합)\n",
       "0  202204  일     5      11010      11010  F  10   HE           10     5.96\n",
       "1  202204  일     5      11010      11010  F  10   WH           10     5.88\n",
       "2  202204  일     5      11010      11010  F  15   HE           10     4.06\n",
       "3  202204  일     5      11010      11010  F  15   EW           10     4.06\n",
       "4  202204  일     5      11010      11010  F  15   EH           10    10.08"
      ]
     },
     "execution_count": 30,
     "metadata": {},
     "output_type": "execute_result"
    }
   ],
   "source": [
    "seoul_day.head()"
   ]
  },
  {
   "cell_type": "code",
   "execution_count": 31,
   "id": "2a5c2f05",
   "metadata": {},
   "outputs": [
    {
     "data": {
      "text/plain": [
       "<AxesSubplot: xlabel='도착 시군구 코드'>"
      ]
     },
     "execution_count": 31,
     "metadata": {},
     "output_type": "execute_result"
    },
    {
     "data": {
      "image/png": "[encoded data removed]",
      "text/plain": [
       "<Figure size 640x480 with 1 Axes>"
      ]
     },
     "metadata": {},
     "output_type": "display_data"
    }
   ],
   "source": [
    "# 서울 낮 시간의 구별 유입인구 수\n",
    "seoul_day.groupby(['도착 시군구 코드'])['이동인구(합)'].sum().sort_values(ascending=False).plot(kind='bar')"
   ]
  },
  {
   "cell_type": "code",
   "execution_count": 32,
   "id": "d4b68a9d",
   "metadata": {},
   "outputs": [
    {
     "data": {
      "text/plain": [
       "<AxesSubplot: xlabel='출발 시군구 코드'>"
      ]
     },
     "execution_count": 32,
     "metadata": {},
     "output_type": "execute_result"
    },
    {
     "data": {
      "image/png": "[encoded data removed]",
      "text/plain": [
       "<Figure size 640x480 with 1 Axes>"
      ]
     },
     "metadata": {},
     "output_type": "display_data"
    }
   ],
   "source": [
    "# 서울 낮 시간의 구별 유출인구 수\n",
    "seoul_day.groupby(['출발 시군구 코드'])['이동인구(합)'].sum().sort_values(ascending=False).plot(kind='bar')"
   ]
  },
  {
   "cell_type": "code",
   "execution_count": 33,
   "id": "c1d74bce",
   "metadata": {},
   "outputs": [
    {
     "data": {
      "text/plain": [
       "<AxesSubplot: xlabel='나이'>"
      ]
     },
     "execution_count": 33,
     "metadata": {},
     "output_type": "execute_result"
    },
    {
     "data": {
      "image/png": "[encoded data removed]",
      "text/plain": [
       "<Figure size 640x480 with 1 Axes>"
      ]
     },
     "metadata": {},
     "output_type": "display_data"
    }
   ],
   "source": [
    "# 서울 낮 시간의 구별 나이에 따른 이동인구 수\n",
    "seoul_day.groupby('나이')['이동인구(합)'].sum().sort_values(ascending=False).plot(kind='bar')"
   ]
  },
  {
   "cell_type": "code",
   "execution_count": 34,
   "id": "2e73134a",
   "metadata": {},
   "outputs": [
    {
     "data": {
      "text/plain": [
       "<AxesSubplot: xlabel='성별'>"
      ]
     },
     "execution_count": 34,
     "metadata": {},
     "output_type": "execute_result"
    },
    {
     "data": {
      "image/png": "[encoded data removed]",
      "text/plain": [
       "<Figure size 640x480 with 1 Axes>"
      ]
     },
     "metadata": {},
     "output_type": "display_data"
    }
   ],
   "source": [
    "# 서울 낮 시간의 구별 성별에 따른 이동인구 수\n",
    "seoul_day.groupby('성별')['이동인구(합)'].sum().sort_values(ascending=False).plot(kind='bar')"
   ]
  },
  {
   "cell_type": "markdown",
   "id": "bff8a6d6",
   "metadata": {
    "id": "bff8a6d6"
   },
   "source": [
    "#### [실습문제9] '도착 시군구 코드' 를 기준으로 각 구별로 '평균 이동 시간(분)' , '이동인구(합)' 의 평균 과 합을 구해보겠습니다\n",
    "\n",
    "* groupby 사용, as_index=False로 설정해주세요"
   ]
  },
  {
   "cell_type": "code",
   "execution_count": 35,
   "id": "7783e416",
   "metadata": {
    "id": "7783e416"
   },
   "outputs": [],
   "source": [
    "# 아래에 실습코드를 작성하고 결과를 확인합니다.\n",
    "a=seoul_day.groupby(['도착 시군구 코드'],as_index=False)\n",
    "time_mean=a['평균 이동 시간(분)'].mean()\n",
    "time_sum=a['평균 이동 시간(분)'].sum()\n",
    "people_mean=a['이동인구(합)'].mean()\n",
    "people_sum=a['이동인구(합)'].sum()"
   ]
  },
  {
   "cell_type": "code",
   "execution_count": 36,
   "id": "cb213b3a",
   "metadata": {
    "id": "cb213b3a"
   },
   "outputs": [
    {
     "data": {
      "text/html": [
       "<div>\n",
       "<style scoped>\n",
       "    .dataframe tbody tr th:only-of-type {\n",
       "        vertical-align: middle;\n",
       "    }\n",
       "\n",
       "    .dataframe tbody tr th {\n",
       "        vertical-align: top;\n",
       "    }\n",
       "\n",
       "    .dataframe thead th {\n",
       "        text-align: right;\n",
       "    }\n",
       "</style>\n",
       "<table border=\"1\" class=\"dataframe\">\n",
       "  <thead>\n",
       "    <tr style=\"text-align: right;\">\n",
       "      <th></th>\n",
       "      <th>도착 시군구 코드</th>\n",
       "      <th>평균 이동 시간(분)_x</th>\n",
       "      <th>평균 이동 시간(분)_y</th>\n",
       "      <th>이동인구(합)_x</th>\n",
       "      <th>이동인구(합)_y</th>\n",
       "    </tr>\n",
       "  </thead>\n",
       "  <tbody>\n",
       "    <tr>\n",
       "      <th>0</th>\n",
       "      <td>11010</td>\n",
       "      <td>21.349599</td>\n",
       "      <td>9356120</td>\n",
       "      <td>44.660701</td>\n",
       "      <td>19571837.56</td>\n",
       "    </tr>\n",
       "    <tr>\n",
       "      <th>1</th>\n",
       "      <td>11020</td>\n",
       "      <td>21.012462</td>\n",
       "      <td>9306020</td>\n",
       "      <td>44.932366</td>\n",
       "      <td>19899691.04</td>\n",
       "    </tr>\n",
       "    <tr>\n",
       "      <th>2</th>\n",
       "      <td>11030</td>\n",
       "      <td>21.364786</td>\n",
       "      <td>8514380</td>\n",
       "      <td>37.373125</td>\n",
       "      <td>14894087.30</td>\n",
       "    </tr>\n",
       "    <tr>\n",
       "      <th>3</th>\n",
       "      <td>11040</td>\n",
       "      <td>21.740324</td>\n",
       "      <td>8887140</td>\n",
       "      <td>43.141640</td>\n",
       "      <td>17635698.46</td>\n",
       "    </tr>\n",
       "    <tr>\n",
       "      <th>4</th>\n",
       "      <td>11050</td>\n",
       "      <td>22.474283</td>\n",
       "      <td>8625540</td>\n",
       "      <td>47.249420</td>\n",
       "      <td>18134138.44</td>\n",
       "    </tr>\n",
       "  </tbody>\n",
       "</table>\n",
       "</div>"
      ],
      "text/plain": [
       "   도착 시군구 코드  평균 이동 시간(분)_x  평균 이동 시간(분)_y  이동인구(합)_x    이동인구(합)_y\n",
       "0      11010      21.349599        9356120  44.660701  19571837.56\n",
       "1      11020      21.012462        9306020  44.932366  19899691.04\n",
       "2      11030      21.364786        8514380  37.373125  14894087.30\n",
       "3      11040      21.740324        8887140  43.141640  17635698.46\n",
       "4      11050      22.474283        8625540  47.249420  18134138.44"
      ]
     },
     "execution_count": 36,
     "metadata": {},
     "output_type": "execute_result"
    }
   ],
   "source": [
    "# 파일을 합쳐볼까요\n",
    "time=pd.merge(time_mean,time_sum,how='inner',on='도착 시군구 코드')\n",
    "people=pd.merge(people_mean,people_sum,how='inner',on='도착 시군구 코드')\n",
    "df_seoul_moving=pd.merge(time,people,how='inner',on='도착 시군구 코드')\n",
    "df_seoul_moving.head()"
   ]
  },
  {
   "cell_type": "code",
   "execution_count": 37,
   "id": "00d706ae",
   "metadata": {},
   "outputs": [
    {
     "name": "stdout",
     "output_type": "stream",
     "text": [
      "<class 'pandas.core.frame.DataFrame'>\n",
      "Int64Index: 25 entries, 0 to 24\n",
      "Data columns (total 5 columns):\n",
      " #   Column         Non-Null Count  Dtype  \n",
      "---  ------         --------------  -----  \n",
      " 0   도착 시군구 코드      25 non-null     int64  \n",
      " 1   평균 이동 시간(분)_x  25 non-null     float64\n",
      " 2   평균 이동 시간(분)_y  25 non-null     int64  \n",
      " 3   이동인구(합)_x      25 non-null     float64\n",
      " 4   이동인구(합)_y      25 non-null     float64\n",
      "dtypes: float64(3), int64(2)\n",
      "memory usage: 1.2 KB\n"
     ]
    }
   ],
   "source": [
    "df_seoul_moving.info()"
   ]
  },
  {
   "cell_type": "code",
   "execution_count": 38,
   "id": "92f21e41",
   "metadata": {},
   "outputs": [
    {
     "data": {
      "text/plain": [
       "0     11010\n",
       "1     11020\n",
       "2     11030\n",
       "3     11040\n",
       "4     11050\n",
       "5     11060\n",
       "6     11070\n",
       "7     11080\n",
       "8     11090\n",
       "9     11100\n",
       "10    11110\n",
       "11    11120\n",
       "12    11130\n",
       "13    11140\n",
       "14    11150\n",
       "15    11160\n",
       "16    11170\n",
       "17    11180\n",
       "18    11190\n",
       "19    11200\n",
       "20    11210\n",
       "21    11220\n",
       "22    11230\n",
       "23    11240\n",
       "24    11250\n",
       "Name: 자치구, dtype: int64"
      ]
     },
     "execution_count": 38,
     "metadata": {},
     "output_type": "execute_result"
    }
   ],
   "source": [
    "# 시군구 코드를 구 이름으로 변경\n",
    "df_seoul_moving['자치구']=df_seoul_moving['도착 시군구 코드']\n",
    "df_seoul_moving['자치구']"
   ]
  },
  {
   "cell_type": "code",
   "execution_count": 39,
   "id": "b54b605b",
   "metadata": {},
   "outputs": [
    {
     "data": {
      "text/html": [
       "<div>\n",
       "<style scoped>\n",
       "    .dataframe tbody tr th:only-of-type {\n",
       "        vertical-align: middle;\n",
       "    }\n",
       "\n",
       "    .dataframe tbody tr th {\n",
       "        vertical-align: top;\n",
       "    }\n",
       "\n",
       "    .dataframe thead th {\n",
       "        text-align: right;\n",
       "    }\n",
       "</style>\n",
       "<table border=\"1\" class=\"dataframe\">\n",
       "  <thead>\n",
       "    <tr style=\"text-align: right;\">\n",
       "      <th></th>\n",
       "      <th>도착 시군구 코드</th>\n",
       "      <th>평균 이동 시간(분)_x</th>\n",
       "      <th>평균 이동 시간(분)_y</th>\n",
       "      <th>이동인구(합)_x</th>\n",
       "      <th>이동인구(합)_y</th>\n",
       "      <th>자치구</th>\n",
       "    </tr>\n",
       "  </thead>\n",
       "  <tbody>\n",
       "    <tr>\n",
       "      <th>0</th>\n",
       "      <td>11010</td>\n",
       "      <td>21.349599</td>\n",
       "      <td>9356120</td>\n",
       "      <td>44.660701</td>\n",
       "      <td>19571837.56</td>\n",
       "      <td>종로구</td>\n",
       "    </tr>\n",
       "    <tr>\n",
       "      <th>1</th>\n",
       "      <td>11020</td>\n",
       "      <td>21.012462</td>\n",
       "      <td>9306020</td>\n",
       "      <td>44.932366</td>\n",
       "      <td>19899691.04</td>\n",
       "      <td>중구</td>\n",
       "    </tr>\n",
       "    <tr>\n",
       "      <th>2</th>\n",
       "      <td>11030</td>\n",
       "      <td>21.364786</td>\n",
       "      <td>8514380</td>\n",
       "      <td>37.373125</td>\n",
       "      <td>14894087.30</td>\n",
       "      <td>용산구</td>\n",
       "    </tr>\n",
       "    <tr>\n",
       "      <th>3</th>\n",
       "      <td>11040</td>\n",
       "      <td>21.740324</td>\n",
       "      <td>8887140</td>\n",
       "      <td>43.141640</td>\n",
       "      <td>17635698.46</td>\n",
       "      <td>성동구</td>\n",
       "    </tr>\n",
       "    <tr>\n",
       "      <th>4</th>\n",
       "      <td>11050</td>\n",
       "      <td>22.474283</td>\n",
       "      <td>8625540</td>\n",
       "      <td>47.249420</td>\n",
       "      <td>18134138.44</td>\n",
       "      <td>광진구</td>\n",
       "    </tr>\n",
       "    <tr>\n",
       "      <th>5</th>\n",
       "      <td>11060</td>\n",
       "      <td>21.673451</td>\n",
       "      <td>8838130</td>\n",
       "      <td>40.418019</td>\n",
       "      <td>16481902.36</td>\n",
       "      <td>동대문구</td>\n",
       "    </tr>\n",
       "    <tr>\n",
       "      <th>6</th>\n",
       "      <td>11070</td>\n",
       "      <td>23.412789</td>\n",
       "      <td>7939300</td>\n",
       "      <td>41.594075</td>\n",
       "      <td>14104592.26</td>\n",
       "      <td>중랑구</td>\n",
       "    </tr>\n",
       "    <tr>\n",
       "      <th>7</th>\n",
       "      <td>11080</td>\n",
       "      <td>22.160283</td>\n",
       "      <td>9072420</td>\n",
       "      <td>46.301364</td>\n",
       "      <td>18955778.59</td>\n",
       "      <td>성북구</td>\n",
       "    </tr>\n",
       "    <tr>\n",
       "      <th>8</th>\n",
       "      <td>11090</td>\n",
       "      <td>23.811274</td>\n",
       "      <td>7649610</td>\n",
       "      <td>39.719921</td>\n",
       "      <td>12760421.77</td>\n",
       "      <td>강북구</td>\n",
       "    </tr>\n",
       "    <tr>\n",
       "      <th>9</th>\n",
       "      <td>11100</td>\n",
       "      <td>24.489976</td>\n",
       "      <td>6995880</td>\n",
       "      <td>38.506211</td>\n",
       "      <td>10999799.89</td>\n",
       "      <td>도봉구</td>\n",
       "    </tr>\n",
       "    <tr>\n",
       "      <th>10</th>\n",
       "      <td>11110</td>\n",
       "      <td>24.029515</td>\n",
       "      <td>8975240</td>\n",
       "      <td>55.716682</td>\n",
       "      <td>20810682.25</td>\n",
       "      <td>노원구</td>\n",
       "    </tr>\n",
       "    <tr>\n",
       "      <th>11</th>\n",
       "      <td>11120</td>\n",
       "      <td>24.611578</td>\n",
       "      <td>8077520</td>\n",
       "      <td>50.871539</td>\n",
       "      <td>16696038.96</td>\n",
       "      <td>은평구</td>\n",
       "    </tr>\n",
       "    <tr>\n",
       "      <th>12</th>\n",
       "      <td>11130</td>\n",
       "      <td>22.026816</td>\n",
       "      <td>8465390</td>\n",
       "      <td>42.920642</td>\n",
       "      <td>16495347.08</td>\n",
       "      <td>서대문구</td>\n",
       "    </tr>\n",
       "    <tr>\n",
       "      <th>13</th>\n",
       "      <td>11140</td>\n",
       "      <td>22.044201</td>\n",
       "      <td>9494790</td>\n",
       "      <td>55.297657</td>\n",
       "      <td>23817585.73</td>\n",
       "      <td>마포구</td>\n",
       "    </tr>\n",
       "    <tr>\n",
       "      <th>14</th>\n",
       "      <td>11150</td>\n",
       "      <td>22.793734</td>\n",
       "      <td>7379950</td>\n",
       "      <td>47.117776</td>\n",
       "      <td>15255369.53</td>\n",
       "      <td>양천구</td>\n",
       "    </tr>\n",
       "    <tr>\n",
       "      <th>15</th>\n",
       "      <td>11160</td>\n",
       "      <td>25.124068</td>\n",
       "      <td>9388010</td>\n",
       "      <td>58.972061</td>\n",
       "      <td>22035854.10</td>\n",
       "      <td>강서구</td>\n",
       "    </tr>\n",
       "    <tr>\n",
       "      <th>16</th>\n",
       "      <td>11170</td>\n",
       "      <td>22.933748</td>\n",
       "      <td>7946750</td>\n",
       "      <td>42.268261</td>\n",
       "      <td>14646332.96</td>\n",
       "      <td>구로구</td>\n",
       "    </tr>\n",
       "    <tr>\n",
       "      <th>17</th>\n",
       "      <td>11180</td>\n",
       "      <td>23.998944</td>\n",
       "      <td>6362000</td>\n",
       "      <td>31.256863</td>\n",
       "      <td>8286038.05</td>\n",
       "      <td>금천구</td>\n",
       "    </tr>\n",
       "    <tr>\n",
       "      <th>18</th>\n",
       "      <td>11190</td>\n",
       "      <td>21.615227</td>\n",
       "      <td>9581360</td>\n",
       "      <td>56.814433</td>\n",
       "      <td>25184076.88</td>\n",
       "      <td>영등포구</td>\n",
       "    </tr>\n",
       "    <tr>\n",
       "      <th>19</th>\n",
       "      <td>11200</td>\n",
       "      <td>21.867593</td>\n",
       "      <td>8408680</td>\n",
       "      <td>41.500297</td>\n",
       "      <td>15957984.76</td>\n",
       "      <td>동작구</td>\n",
       "    </tr>\n",
       "    <tr>\n",
       "      <th>20</th>\n",
       "      <td>11210</td>\n",
       "      <td>23.377928</td>\n",
       "      <td>8772170</td>\n",
       "      <td>50.429574</td>\n",
       "      <td>18922840.20</td>\n",
       "      <td>관악구</td>\n",
       "    </tr>\n",
       "    <tr>\n",
       "      <th>21</th>\n",
       "      <td>11220</td>\n",
       "      <td>22.831643</td>\n",
       "      <td>10291660</td>\n",
       "      <td>64.547609</td>\n",
       "      <td>29095673.83</td>\n",
       "      <td>서초구</td>\n",
       "    </tr>\n",
       "    <tr>\n",
       "      <th>22</th>\n",
       "      <td>11230</td>\n",
       "      <td>23.094565</td>\n",
       "      <td>11437560</td>\n",
       "      <td>90.580494</td>\n",
       "      <td>44859899.30</td>\n",
       "      <td>강남구</td>\n",
       "    </tr>\n",
       "    <tr>\n",
       "      <th>23</th>\n",
       "      <td>11240</td>\n",
       "      <td>25.429707</td>\n",
       "      <td>10610520</td>\n",
       "      <td>83.934768</td>\n",
       "      <td>35021698.11</td>\n",
       "      <td>송파구</td>\n",
       "    </tr>\n",
       "    <tr>\n",
       "      <th>24</th>\n",
       "      <td>11250</td>\n",
       "      <td>25.670084</td>\n",
       "      <td>8430800</td>\n",
       "      <td>64.858004</td>\n",
       "      <td>21301249.36</td>\n",
       "      <td>강동구</td>\n",
       "    </tr>\n",
       "  </tbody>\n",
       "</table>\n",
       "</div>"
      ],
      "text/plain": [
       "    도착 시군구 코드  평균 이동 시간(분)_x  평균 이동 시간(분)_y  이동인구(합)_x    이동인구(합)_y   자치구\n",
       "0       11010      21.349599        9356120  44.660701  19571837.56   종로구\n",
       "1       11020      21.012462        9306020  44.932366  19899691.04    중구\n",
       "2       11030      21.364786        8514380  37.373125  14894087.30   용산구\n",
       "3       11040      21.740324        8887140  43.141640  17635698.46   성동구\n",
       "4       11050      22.474283        8625540  47.249420  18134138.44   광진구\n",
       "5       11060      21.673451        8838130  40.418019  16481902.36  동대문구\n",
       "6       11070      23.412789        7939300  41.594075  14104592.26   중랑구\n",
       "7       11080      22.160283        9072420  46.301364  18955778.59   성북구\n",
       "8       11090      23.811274        7649610  39.719921  12760421.77   강북구\n",
       "9       11100      24.489976        6995880  38.506211  10999799.89   도봉구\n",
       "10      11110      24.029515        8975240  55.716682  20810682.25   노원구\n",
       "11      11120      24.611578        8077520  50.871539  16696038.96   은평구\n",
       "12      11130      22.026816        8465390  42.920642  16495347.08  서대문구\n",
       "13      11140      22.044201        9494790  55.297657  23817585.73   마포구\n",
       "14      11150      22.793734        7379950  47.117776  15255369.53   양천구\n",
       "15      11160      25.124068        9388010  58.972061  22035854.10   강서구\n",
       "16      11170      22.933748        7946750  42.268261  14646332.96   구로구\n",
       "17      11180      23.998944        6362000  31.256863   8286038.05   금천구\n",
       "18      11190      21.615227        9581360  56.814433  25184076.88  영등포구\n",
       "19      11200      21.867593        8408680  41.500297  15957984.76   동작구\n",
       "20      11210      23.377928        8772170  50.429574  18922840.20   관악구\n",
       "21      11220      22.831643       10291660  64.547609  29095673.83   서초구\n",
       "22      11230      23.094565       11437560  90.580494  44859899.30   강남구\n",
       "23      11240      25.429707       10610520  83.934768  35021698.11   송파구\n",
       "24      11250      25.670084        8430800  64.858004  21301249.36   강동구"
      ]
     },
     "execution_count": 39,
     "metadata": {},
     "output_type": "execute_result"
    }
   ],
   "source": [
    "df_seoul_moving['자치구']=df_seoul_moving['자치구'].map({\n",
    "11010 :'종로구',\n",
    "11020 :'중구',\n",
    "11030 :'용산구',\n",
    "11040 :'성동구',\n",
    "11050 :'광진구',\n",
    "11060 :'동대문구',\n",
    "11070 :'중랑구',\n",
    "11080 :'성북구',\n",
    "11090 :'강북구',\n",
    "11100 :'도봉구',\n",
    "11110 :'노원구',\n",
    "11120 :'은평구',\n",
    "11130 :'서대문구',\n",
    "11140 :'마포구',\n",
    "11150 :'양천구',\n",
    "11160 :'강서구',\n",
    "11170 :'구로구',\n",
    "11180 :'금천구',\n",
    "11190 :'영등포구',\n",
    "11200 :'동작구',\n",
    "11210 :'관악구',\n",
    "11220 :'서초구',\n",
    "11230 :'강남구',\n",
    "11240 :'송파구',\n",
    "11250 :'강동구'})\n",
    "df_seoul_moving"
   ]
  },
  {
   "cell_type": "code",
   "execution_count": 40,
   "id": "ac3a08a9",
   "metadata": {},
   "outputs": [],
   "source": [
    "# 열 이름 변경\n",
    "df_seoul_moving.rename(columns={'평균 이동 시간(분)_x':'평균 이동 시간(분)','평균 이동 시간(분)_y':'총 이동 시간(분)',\n",
    "                               '이동인구(합)_x':'이동인구(평균)','이동인구(합)_y':'이동인구(합)'}, inplace=True)"
   ]
  },
  {
   "cell_type": "code",
   "execution_count": 41,
   "id": "6b518a3c",
   "metadata": {},
   "outputs": [
    {
     "data": {
      "text/html": [
       "<div>\n",
       "<style scoped>\n",
       "    .dataframe tbody tr th:only-of-type {\n",
       "        vertical-align: middle;\n",
       "    }\n",
       "\n",
       "    .dataframe tbody tr th {\n",
       "        vertical-align: top;\n",
       "    }\n",
       "\n",
       "    .dataframe thead th {\n",
       "        text-align: right;\n",
       "    }\n",
       "</style>\n",
       "<table border=\"1\" class=\"dataframe\">\n",
       "  <thead>\n",
       "    <tr style=\"text-align: right;\">\n",
       "      <th></th>\n",
       "      <th>도착 시군구 코드</th>\n",
       "      <th>평균 이동 시간(분)</th>\n",
       "      <th>총 이동 시간(분)</th>\n",
       "      <th>이동인구(평균)</th>\n",
       "      <th>이동인구(합)</th>\n",
       "      <th>자치구</th>\n",
       "    </tr>\n",
       "  </thead>\n",
       "  <tbody>\n",
       "    <tr>\n",
       "      <th>0</th>\n",
       "      <td>11010</td>\n",
       "      <td>21.349599</td>\n",
       "      <td>9356120</td>\n",
       "      <td>44.660701</td>\n",
       "      <td>19571837.56</td>\n",
       "      <td>종로구</td>\n",
       "    </tr>\n",
       "    <tr>\n",
       "      <th>1</th>\n",
       "      <td>11020</td>\n",
       "      <td>21.012462</td>\n",
       "      <td>9306020</td>\n",
       "      <td>44.932366</td>\n",
       "      <td>19899691.04</td>\n",
       "      <td>중구</td>\n",
       "    </tr>\n",
       "    <tr>\n",
       "      <th>2</th>\n",
       "      <td>11030</td>\n",
       "      <td>21.364786</td>\n",
       "      <td>8514380</td>\n",
       "      <td>37.373125</td>\n",
       "      <td>14894087.30</td>\n",
       "      <td>용산구</td>\n",
       "    </tr>\n",
       "    <tr>\n",
       "      <th>3</th>\n",
       "      <td>11040</td>\n",
       "      <td>21.740324</td>\n",
       "      <td>8887140</td>\n",
       "      <td>43.141640</td>\n",
       "      <td>17635698.46</td>\n",
       "      <td>성동구</td>\n",
       "    </tr>\n",
       "    <tr>\n",
       "      <th>4</th>\n",
       "      <td>11050</td>\n",
       "      <td>22.474283</td>\n",
       "      <td>8625540</td>\n",
       "      <td>47.249420</td>\n",
       "      <td>18134138.44</td>\n",
       "      <td>광진구</td>\n",
       "    </tr>\n",
       "  </tbody>\n",
       "</table>\n",
       "</div>"
      ],
      "text/plain": [
       "   도착 시군구 코드  평균 이동 시간(분)  총 이동 시간(분)   이동인구(평균)      이동인구(합)  자치구\n",
       "0      11010    21.349599     9356120  44.660701  19571837.56  종로구\n",
       "1      11020    21.012462     9306020  44.932366  19899691.04   중구\n",
       "2      11030    21.364786     8514380  37.373125  14894087.30  용산구\n",
       "3      11040    21.740324     8887140  43.141640  17635698.46  성동구\n",
       "4      11050    22.474283     8625540  47.249420  18134138.44  광진구"
      ]
     },
     "execution_count": 41,
     "metadata": {},
     "output_type": "execute_result"
    }
   ],
   "source": [
    "df_seoul_moving.head()"
   ]
  },
  {
   "cell_type": "code",
   "execution_count": 42,
   "id": "f30e8068",
   "metadata": {},
   "outputs": [],
   "source": [
    "df_seoul_moving=df_seoul_moving.drop('도착 시군구 코드',axis=1)"
   ]
  },
  {
   "cell_type": "code",
   "execution_count": 43,
   "id": "ac81e805",
   "metadata": {},
   "outputs": [
    {
     "data": {
      "text/html": [
       "<div>\n",
       "<style scoped>\n",
       "    .dataframe tbody tr th:only-of-type {\n",
       "        vertical-align: middle;\n",
       "    }\n",
       "\n",
       "    .dataframe tbody tr th {\n",
       "        vertical-align: top;\n",
       "    }\n",
       "\n",
       "    .dataframe thead th {\n",
       "        text-align: right;\n",
       "    }\n",
       "</style>\n",
       "<table border=\"1\" class=\"dataframe\">\n",
       "  <thead>\n",
       "    <tr style=\"text-align: right;\">\n",
       "      <th></th>\n",
       "      <th>평균 이동 시간(분)</th>\n",
       "      <th>총 이동 시간(분)</th>\n",
       "      <th>이동인구(평균)</th>\n",
       "      <th>이동인구(합)</th>\n",
       "      <th>자치구</th>\n",
       "    </tr>\n",
       "  </thead>\n",
       "  <tbody>\n",
       "    <tr>\n",
       "      <th>0</th>\n",
       "      <td>21.349599</td>\n",
       "      <td>9356120</td>\n",
       "      <td>44.660701</td>\n",
       "      <td>19571837.56</td>\n",
       "      <td>종로구</td>\n",
       "    </tr>\n",
       "    <tr>\n",
       "      <th>1</th>\n",
       "      <td>21.012462</td>\n",
       "      <td>9306020</td>\n",
       "      <td>44.932366</td>\n",
       "      <td>19899691.04</td>\n",
       "      <td>중구</td>\n",
       "    </tr>\n",
       "    <tr>\n",
       "      <th>2</th>\n",
       "      <td>21.364786</td>\n",
       "      <td>8514380</td>\n",
       "      <td>37.373125</td>\n",
       "      <td>14894087.30</td>\n",
       "      <td>용산구</td>\n",
       "    </tr>\n",
       "    <tr>\n",
       "      <th>3</th>\n",
       "      <td>21.740324</td>\n",
       "      <td>8887140</td>\n",
       "      <td>43.141640</td>\n",
       "      <td>17635698.46</td>\n",
       "      <td>성동구</td>\n",
       "    </tr>\n",
       "    <tr>\n",
       "      <th>4</th>\n",
       "      <td>22.474283</td>\n",
       "      <td>8625540</td>\n",
       "      <td>47.249420</td>\n",
       "      <td>18134138.44</td>\n",
       "      <td>광진구</td>\n",
       "    </tr>\n",
       "  </tbody>\n",
       "</table>\n",
       "</div>"
      ],
      "text/plain": [
       "   평균 이동 시간(분)  총 이동 시간(분)   이동인구(평균)      이동인구(합)  자치구\n",
       "0    21.349599     9356120  44.660701  19571837.56  종로구\n",
       "1    21.012462     9306020  44.932366  19899691.04   중구\n",
       "2    21.364786     8514380  37.373125  14894087.30  용산구\n",
       "3    21.740324     8887140  43.141640  17635698.46  성동구\n",
       "4    22.474283     8625540  47.249420  18134138.44  광진구"
      ]
     },
     "execution_count": 43,
     "metadata": {},
     "output_type": "execute_result"
    }
   ],
   "source": [
    "df_seoul_moving.head()"
   ]
  },
  {
   "cell_type": "code",
   "execution_count": 44,
   "id": "39bb8ecb",
   "metadata": {},
   "outputs": [
    {
     "data": {
      "text/plain": [
       "[<matplotlib.lines.Line2D at 0x23ddf60d880>]"
      ]
     },
     "execution_count": 44,
     "metadata": {},
     "output_type": "execute_result"
    },
    {
     "data": {
      "image/png": "[encoded data removed]",
      "text/plain": [
       "<Figure size 2000x1000 with 1 Axes>"
      ]
     },
     "metadata": {},
     "output_type": "display_data"
    }
   ],
   "source": [
    "# 구별 평균 이동 시간\n",
    "plt.figure(figsize=(20,10))\n",
    "plt.plot('자치구','평균 이동 시간(분)',data=df_seoul_moving)"
   ]
  },
  {
   "cell_type": "code",
   "execution_count": 45,
   "id": "d12fd53c",
   "metadata": {},
   "outputs": [
    {
     "data": {
      "text/plain": [
       "[<matplotlib.lines.Line2D at 0x23ddf6ceca0>]"
      ]
     },
     "execution_count": 45,
     "metadata": {},
     "output_type": "execute_result"
    },
    {
     "data": {
      "image/png": "[encoded data removed]",
      "text/plain": [
       "<Figure size 2000x1000 with 1 Axes>"
      ]
     },
     "metadata": {},
     "output_type": "display_data"
    }
   ],
   "source": [
    "# 구별 총 이동 시간\n",
    "plt.figure(figsize=(20,10))\n",
    "plt.plot('자치구','총 이동 시간(분)',data=df_seoul_moving)"
   ]
  },
  {
   "cell_type": "code",
   "execution_count": 46,
   "id": "773801bc",
   "metadata": {},
   "outputs": [
    {
     "data": {
      "text/plain": [
       "[<matplotlib.lines.Line2D at 0x23de0eb15e0>]"
      ]
     },
     "execution_count": 46,
     "metadata": {},
     "output_type": "execute_result"
    },
    {
     "data": {
      "image/png": "[encoded data removed]",
      "text/plain": [
       "<Figure size 2000x1000 with 1 Axes>"
      ]
     },
     "metadata": {},
     "output_type": "display_data"
    }
   ],
   "source": [
    "# 구별 평균 이동인구\n",
    "plt.figure(figsize=(20,10))\n",
    "plt.plot('자치구','이동인구(평균)',data=df_seoul_moving)"
   ]
  },
  {
   "cell_type": "code",
   "execution_count": 47,
   "id": "9e67c753",
   "metadata": {},
   "outputs": [
    {
     "data": {
      "text/plain": [
       "[<matplotlib.lines.Line2D at 0x23de0a1ac40>]"
      ]
     },
     "execution_count": 47,
     "metadata": {},
     "output_type": "execute_result"
    },
    {
     "data": {
      "image/png": "[encoded data removed]",
      "text/plain": [
       "<Figure size 2000x1000 with 1 Axes>"
      ]
     },
     "metadata": {},
     "output_type": "display_data"
    }
   ],
   "source": [
    "# 구별 총 이동인구\n",
    "plt.figure(figsize=(20,10))\n",
    "plt.plot('자치구','이동인구(합)',data=df_seoul_moving)"
   ]
  },
  {
   "cell_type": "code",
   "execution_count": 48,
   "id": "6450da6f",
   "metadata": {},
   "outputs": [
    {
     "data": {
      "text/plain": [
       "Text(0.5, 1.0, '상관관계')"
      ]
     },
     "execution_count": 48,
     "metadata": {},
     "output_type": "execute_result"
    },
    {
     "data": {
      "image/png": "[encoded data removed]",
      "text/plain": [
       "<Figure size 1000x800 with 2 Axes>"
      ]
     },
     "metadata": {},
     "output_type": "display_data"
    }
   ],
   "source": [
    "# 속성별 상관관계\n",
    "cor=df_seoul_moving.corr()\n",
    "plt.figure(figsize=(10,8))\n",
    "sns.heatmap(cor, annot=True)\n",
    "plt.title('상관관계', size=30)"
   ]
  },
  {
   "cell_type": "code",
   "execution_count": 49,
   "id": "b7389d07",
   "metadata": {
    "id": "b7389d07"
   },
   "outputs": [],
   "source": [
    "# 해당 데이터프레임을 'df_seoul_moving.csv' 파일로 저장하세요\n",
    "df_seoul_moving.to_csv(\"df_seoul_moving.csv\", index = False)"
   ]
  },
  {
   "cell_type": "markdown",
   "id": "602b8bae",
   "metadata": {
    "id": "602b8bae"
   },
   "source": [
    "---"
   ]
  },
  {
   "cell_type": "markdown",
   "id": "southeast-integration",
   "metadata": {
    "id": "southeast-integration"
   },
   "source": [
    "# 3.데이터 분석하기\n",
    "+ KeyPoint : 데이터의 형태를 살펴보고 다양한 분석기법을 통해 모델링에 적합하도록 정제요소를 선별할 수 있다.\n",
    "  * 데이터들의 패턴 탐색\n",
    "  * 변수들간의 관계 파악"
   ]
  },
  {
   "cell_type": "markdown",
   "id": "material-complex",
   "metadata": {
    "id": "material-complex"
   },
   "source": [
    "#### [실습문제10] 데이터 분포 알아보기\n",
    "* 다양한 변수를 기준으로 그래프를 그려보고 인사이트를 도출해보세요."
   ]
  },
  {
   "cell_type": "markdown",
   "id": "92b49948",
   "metadata": {
    "id": "a360d86c"
   },
   "source": [
    "# 위 차트를 통해 알게된 사실을 정리해봅시다.\n",
    "# 1. 유입과 유출은 강남,서초구에서 가장 많다.그러나 심야를 제외하면 강남,송파구에서 가장 많다. 서초구는 심야에 사람이 많다.\n",
    "# 2. 여성이 남성보다 심야를 제외한 서울시에서의 유동인구가 더 많다.\n",
    "# 3. 이동시간의 평균과 합의 상관관게는 작다.그러나 이동인구의 평균과 합의 상관관계는 크다.\n",
    "# 4. 총 이동시간과 총 이동인구의 상관관계는 크다.즉 이동시간이 길면 이동인구가 많을 확률이 크다."
   ]
  },
  {
   "cell_type": "markdown",
   "id": "ca567b34",
   "metadata": {
    "id": "ca567b34"
   },
   "source": [
    "---"
   ]
  }
 ],
 "metadata": {
  "colab": {
   "collapsed_sections": [],
   "provenance": []
  },
  "kernelspec": {
   "display_name": "Python 3 (ipykernel)",
   "language": "python",
   "name": "python3"
  },
  "language_info": {
   "codemirror_mode": {
    "name": "ipython",
    "version": 3
   },
   "file_extension": ".py",
   "mimetype": "text/x-python",
   "name": "python",
   "nbconvert_exporter": "python",
   "pygments_lexer": "ipython3",
   "version": "3.8.6"
  },
  "vscode": {
   "interpreter": {
    "hash": "f08154012ddadd8e950e6e9e035c7a7b32c136e7647e9b7c77e02eb723a8bedb"
   }
  }
 },
 "nbformat": 4,
 "nbformat_minor": 5
}
